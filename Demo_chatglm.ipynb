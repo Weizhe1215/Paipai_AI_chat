{
 "cells": [
  {
   "cell_type": "code",
   "execution_count": 1,
   "id": "initial_id",
   "metadata": {
    "collapsed": true,
    "jupyter": {
     "outputs_hidden": true
    },
    "ExecuteTime": {
     "end_time": "2024-03-19T07:15:04.108721Z",
     "start_time": "2024-03-19T07:15:00.554544Z"
    }
   },
   "outputs": [],
   "source": [
    "from transformers import  AutoModel,AutoTokenizer,AutoModelForCausalLM\n",
    "from functions import *\n",
    "import warnings\n",
    "warnings.filterwarnings(\"ignore\")"
   ]
  },
  {
   "cell_type": "markdown",
   "id": "85115e0aa0934ad5",
   "metadata": {
    "collapsed": false
   },
   "source": [
    "## 1. 读取模型"
   ]
  },
  {
   "cell_type": "code",
   "execution_count": 2,
   "id": "2c22d8d14d6196e1",
   "metadata": {
    "collapsed": false,
    "ExecuteTime": {
     "end_time": "2024-03-19T07:15:19.969932Z",
     "start_time": "2024-03-19T07:15:05.166812Z"
    }
   },
   "outputs": [
    {
     "name": "stderr",
     "output_type": "stream",
     "text": [
      "Setting eos_token is not supported, use the default one.\n",
      "Setting pad_token is not supported, use the default one.\n",
      "Setting unk_token is not supported, use the default one.\n"
     ]
    },
    {
     "data": {
      "text/plain": "Loading checkpoint shards:   0%|          | 0/7 [00:00<?, ?it/s]",
      "application/vnd.jupyter.widget-view+json": {
       "version_major": 2,
       "version_minor": 0,
       "model_id": "dfdba35112d44e10af8592457764bcc4"
      }
     },
     "metadata": {},
     "output_type": "display_data"
    }
   ],
   "source": [
    "# 初始化模型\n",
    "model_name = \"chatglm6b\"\n",
    "tokenizer = AutoTokenizer.from_pretrained(\n",
    "    model_name, trust_remote_code=True)\n",
    "model = AutoModel.from_pretrained(model_name,trust_remote_code=True).cuda()"
   ]
  },
  {
   "cell_type": "code",
   "outputs": [],
   "source": [],
   "metadata": {
    "collapsed": false
   },
   "id": "356fff426e5da353",
   "execution_count": 5
  },
  {
   "cell_type": "markdown",
   "id": "4a7c453d213dfc14",
   "metadata": {
    "collapsed": false
   },
   "source": [
    "## 2. 定义prompt\n",
    "这里需要严格定义prompt"
   ]
  },
  {
   "cell_type": "code",
   "execution_count": 3,
   "id": "c0262b3889fc5317",
   "metadata": {
    "collapsed": false,
    "ExecuteTime": {
     "end_time": "2024-03-19T07:15:25.111291Z",
     "start_time": "2024-03-19T07:15:25.108763Z"
    }
   },
   "outputs": [],
   "source": [
    "prompt1 = \"\"\"文本总结任务：将一段描述某量化私募的配置逻辑的文本进行总结，找到其使用的因子中，量价类因子和基本面类因子的占比是多少。注意，只说量价类因子占比多少和基本面因子占比多少。\n",
    "\n",
    "下面是范例:\n",
    "核心基金经理施恩2020年形成了较为完善的策略框架，近两年主要进行一些因子方面的优化调整。目前仍然是中低频量价因子为核心，占比80%以上，基本面和另类因子大约15%。未来优化方向仍然以各领域的因子挖掘为主，逐步丰富基本面、另类、高频量价因子。子策略层面也主要是核心基金经理施恩过往开发积累的，负责组合优化的研究员主要根据基金经理指示做一些细化的研究工作。 因子层面偏好人工挖掘，对因子的逻辑性有较高要求，机器学习挖掘的因子在5%以内，通常会使用10年以上数据做观测，对近2-3年数据给予更高的权重，每个月都在持续更迭因子，无具体比例统计，入库因子大约1000个，实盘使用500个左右，因子组合以非线性为主，实盘上线了9个子策略模型，暂未使用深度的机器学习。子策略模型信号融合后生产个股截面打分，模型暂未使用半小时以内的预测，日间alpha的贡献较为突出，以3-5天频段为主。2023年新招募了1名研究员负责高频因子挖掘，新的因子和策略大约需要3个月的测试，然后进行小规模实盘，每月进行微幅的因子调整。 选股范围为全市场个股，剔除一些ST股、财务方面有重大风险的、流动性较差的新股等，风险约束方面，由于是空气指增，并未针对特定指数做一些跟踪，主要限制单一个股持仓上限0.5%，平均持仓个股600个左右，单一行业从实盘运行情况来看，不超过20%，通过个股分散的限制，产品不会在行业、概念题材中过度暴露。交易信号在全天分布，年双边换手率70倍左右，并未集中在早盘，策略对交易系统的要求是特别高，交易算法主要使用第三方算法服务商，如卡方。 \n",
    "\n",
    "根据该段的描述，回答应该为：量价类因子：80%; 基本面因子：15%\n",
    "\n",
    "接下来，请对下述文本进行总结：\n",
    "xxxxxx\n",
    "\n",
    "注意，必须严格按照该格式输出：量价类因子：X%; 基本面因子：X%\n",
    "\"\"\""
   ]
  },
  {
   "cell_type": "markdown",
   "id": "2ec861938e9ec8da",
   "metadata": {
    "collapsed": false
   },
   "source": [
    "## 3. 提取尽调报告中的内容"
   ]
  },
  {
   "cell_type": "code",
   "execution_count": 4,
   "id": "924b29617b53a641",
   "metadata": {
    "collapsed": false,
    "ExecuteTime": {
     "end_time": "2024-03-19T07:15:25.649722Z",
     "start_time": "2024-03-19T07:15:25.647211Z"
    }
   },
   "outputs": [],
   "source": [
    "# 指定文件夹路径\n",
    "folder_path = '尽调报告'\n",
    "# 正则表达式，假设“配置逻辑”和“持仓特征”都只出现一次，且顺序固定\n",
    "regex_pattern = r'配置逻辑(.*?)持仓特征'"
   ]
  },
  {
   "cell_type": "markdown",
   "id": "b4a3a49187b4849e",
   "metadata": {
    "collapsed": false
   },
   "source": [
    "开始提取本地的尽调报告中与配置逻辑相关的内容"
   ]
  },
  {
   "cell_type": "code",
   "execution_count": 5,
   "id": "9eb330e293a33460",
   "metadata": {
    "collapsed": false,
    "ExecuteTime": {
     "end_time": "2024-03-19T07:15:26.449569Z",
     "start_time": "2024-03-19T07:15:26.404985Z"
    }
   },
   "outputs": [],
   "source": [
    "extracted_contents, name_list = extract_content_from_docx(folder_path, regex_pattern)"
   ]
  },
  {
   "cell_type": "markdown",
   "id": "67cf8fe4eb379e39",
   "metadata": {
    "collapsed": false
   },
   "source": [
    "使用大语言模型推理，并输出结果，储存在表中"
   ]
  },
  {
   "cell_type": "code",
   "execution_count": 6,
   "id": "3468fd8367db0100",
   "metadata": {
    "collapsed": false,
    "ExecuteTime": {
     "end_time": "2024-03-19T07:15:32.054094Z",
     "start_time": "2024-03-19T07:15:27.257338Z"
    }
   },
   "outputs": [],
   "source": [
    "final_df,temp_list = get_answer_from_docx_glm(extracted_contents,prompt1,name_list,model,tokenizer)"
   ]
  },
  {
   "cell_type": "code",
   "execution_count": 7,
   "id": "d7434cb94f2ab5a2",
   "metadata": {
    "collapsed": false,
    "ExecuteTime": {
     "end_time": "2024-03-19T07:15:32.968108Z",
     "start_time": "2024-03-19T07:15:32.962921Z"
    }
   },
   "outputs": [
    {
     "data": {
      "text/plain": "             私募名称                  因子组成\n0    上海泓赫投资管理有限公司  量价类因子：70%; 基本面因子：30%\n1  上海象上私募基金管理有限公司  量价类因子：70%; 基本面因子：30%\n2  北京涌金春生投资管理有限公司   量价类因子：40%；基本面因子：60%\n3  英旷资产管理（上海）有限公司  量价类因子：70%; 基本面因子：30%",
      "text/html": "<div>\n<style scoped>\n    .dataframe tbody tr th:only-of-type {\n        vertical-align: middle;\n    }\n\n    .dataframe tbody tr th {\n        vertical-align: top;\n    }\n\n    .dataframe thead th {\n        text-align: right;\n    }\n</style>\n<table border=\"1\" class=\"dataframe\">\n  <thead>\n    <tr style=\"text-align: right;\">\n      <th></th>\n      <th>私募名称</th>\n      <th>因子组成</th>\n    </tr>\n  </thead>\n  <tbody>\n    <tr>\n      <th>0</th>\n      <td>上海泓赫投资管理有限公司</td>\n      <td>量价类因子：70%; 基本面因子：30%</td>\n    </tr>\n    <tr>\n      <th>1</th>\n      <td>上海象上私募基金管理有限公司</td>\n      <td>量价类因子：70%; 基本面因子：30%</td>\n    </tr>\n    <tr>\n      <th>2</th>\n      <td>北京涌金春生投资管理有限公司</td>\n      <td>量价类因子：40%；基本面因子：60%</td>\n    </tr>\n    <tr>\n      <th>3</th>\n      <td>英旷资产管理（上海）有限公司</td>\n      <td>量价类因子：70%; 基本面因子：30%</td>\n    </tr>\n  </tbody>\n</table>\n</div>"
     },
     "execution_count": 7,
     "metadata": {},
     "output_type": "execute_result"
    }
   ],
   "source": [
    "final_df # 这个是chatglm的输出结果"
   ]
  },
  {
   "cell_type": "code",
   "outputs": [],
   "source": [],
   "metadata": {
    "collapsed": false
   },
   "id": "c1106a107e79221f"
  }
 ],
 "metadata": {
  "kernelspec": {
   "display_name": "Python 3 (ipykernel)",
   "language": "python",
   "name": "python3"
  },
  "language_info": {
   "codemirror_mode": {
    "name": "ipython",
    "version": 3
   },
   "file_extension": ".py",
   "mimetype": "text/x-python",
   "name": "python",
   "nbconvert_exporter": "python",
   "pygments_lexer": "ipython3",
   "version": "3.11.7"
  }
 },
 "nbformat": 4,
 "nbformat_minor": 5
}
