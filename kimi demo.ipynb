{
 "cells": [
  {
   "cell_type": "code",
   "execution_count": 3,
   "id": "initial_id",
   "metadata": {
    "collapsed": true,
    "ExecuteTime": {
     "end_time": "2024-06-08T07:04:03.610005Z",
     "start_time": "2024-06-08T07:04:01.503233Z"
    }
   },
   "outputs": [
    {
     "name": "stdout",
     "output_type": "stream",
     "text": [
      "你好，李雷！1+1 等于 2。这是一个基本的数学加法运算。如果你有其他问题或需要帮助，请随时告诉我。\n"
     ]
    }
   ],
   "source": [
    "from openai import OpenAI\n",
    " \n",
    "client = OpenAI(\n",
    "    api_key = \"sk-vN7FP08igDLxuhgF61Xmcn5cfh379p4fTFkB7EvVZ4O0jLZb\",\n",
    "    base_url = \"https://api.moonshot.cn/v1\",\n",
    ")\n",
    " \n",
    "completion = client.chat.completions.create(\n",
    "    model = \"moonshot-v1-8k\",\n",
    "    messages = [\n",
    "        {\"role\": \"user\", \"content\": \"你好，我叫李雷，1+1等于多少？\"}\n",
    "    ],\n",
    "    temperature = 0.1,\n",
    ")\n",
    " \n",
    "print(completion.choices[0].message.content)"
   ]
  },
  {
   "cell_type": "code",
   "outputs": [
    {
     "ename": "AttributeError",
     "evalue": "'ChatCompletion' object has no attribute 'messages'",
     "output_type": "error",
     "traceback": [
      "\u001B[1;31m---------------------------------------------------------------------------\u001B[0m",
      "\u001B[1;31mKeyError\u001B[0m                                  Traceback (most recent call last)",
      "File \u001B[1;32mD:\\AI\\Paipai AI chat\\venv\\Lib\\site-packages\\pydantic\\main.py:759\u001B[0m, in \u001B[0;36mBaseModel.__getattr__\u001B[1;34m(self, item)\u001B[0m\n\u001B[0;32m    758\u001B[0m \u001B[38;5;28;01mtry\u001B[39;00m:\n\u001B[1;32m--> 759\u001B[0m     \u001B[38;5;28;01mreturn\u001B[39;00m \u001B[43mpydantic_extra\u001B[49m\u001B[43m[\u001B[49m\u001B[43mitem\u001B[49m\u001B[43m]\u001B[49m\n\u001B[0;32m    760\u001B[0m \u001B[38;5;28;01mexcept\u001B[39;00m \u001B[38;5;167;01mKeyError\u001B[39;00m \u001B[38;5;28;01mas\u001B[39;00m exc:\n",
      "\u001B[1;31mKeyError\u001B[0m: 'messages'",
      "\nThe above exception was the direct cause of the following exception:\n",
      "\u001B[1;31mAttributeError\u001B[0m                            Traceback (most recent call last)",
      "Cell \u001B[1;32mIn[2], line 1\u001B[0m\n\u001B[1;32m----> 1\u001B[0m \u001B[43mcompletion\u001B[49m\u001B[38;5;241;43m.\u001B[39;49m\u001B[43mmessages\u001B[49m\n",
      "File \u001B[1;32mD:\\AI\\Paipai AI chat\\venv\\Lib\\site-packages\\pydantic\\main.py:761\u001B[0m, in \u001B[0;36mBaseModel.__getattr__\u001B[1;34m(self, item)\u001B[0m\n\u001B[0;32m    759\u001B[0m         \u001B[38;5;28;01mreturn\u001B[39;00m pydantic_extra[item]\n\u001B[0;32m    760\u001B[0m     \u001B[38;5;28;01mexcept\u001B[39;00m \u001B[38;5;167;01mKeyError\u001B[39;00m \u001B[38;5;28;01mas\u001B[39;00m exc:\n\u001B[1;32m--> 761\u001B[0m         \u001B[38;5;28;01mraise\u001B[39;00m \u001B[38;5;167;01mAttributeError\u001B[39;00m(\u001B[38;5;124mf\u001B[39m\u001B[38;5;124m'\u001B[39m\u001B[38;5;132;01m{\u001B[39;00m\u001B[38;5;28mtype\u001B[39m(\u001B[38;5;28mself\u001B[39m)\u001B[38;5;241m.\u001B[39m\u001B[38;5;18m__name__\u001B[39m\u001B[38;5;132;01m!r}\u001B[39;00m\u001B[38;5;124m object has no attribute \u001B[39m\u001B[38;5;132;01m{\u001B[39;00mitem\u001B[38;5;132;01m!r}\u001B[39;00m\u001B[38;5;124m'\u001B[39m) \u001B[38;5;28;01mfrom\u001B[39;00m \u001B[38;5;21;01mexc\u001B[39;00m\n\u001B[0;32m    762\u001B[0m \u001B[38;5;28;01melse\u001B[39;00m:\n\u001B[0;32m    763\u001B[0m     \u001B[38;5;28;01mif\u001B[39;00m \u001B[38;5;28mhasattr\u001B[39m(\u001B[38;5;28mself\u001B[39m\u001B[38;5;241m.\u001B[39m\u001B[38;5;18m__class__\u001B[39m, item):\n",
      "\u001B[1;31mAttributeError\u001B[0m: 'ChatCompletion' object has no attribute 'messages'"
     ]
    }
   ],
   "source": [
    "completion.messages"
   ],
   "metadata": {
    "collapsed": false,
    "ExecuteTime": {
     "end_time": "2024-06-08T07:02:06.416483Z",
     "start_time": "2024-06-08T07:02:06.180578Z"
    }
   },
   "id": "679593d0f483841c",
   "execution_count": 2
  },
  {
   "cell_type": "code",
   "outputs": [],
   "source": [
    "from LLM_read_kimi_mysql import *"
   ],
   "metadata": {
    "collapsed": false,
    "ExecuteTime": {
     "end_time": "2024-06-08T07:55:36.048417Z",
     "start_time": "2024-06-08T07:55:35.433555Z"
    }
   },
   "id": "7b73509cb8968586",
   "execution_count": 1
  },
  {
   "cell_type": "code",
   "outputs": [
    {
     "name": "stderr",
     "output_type": "stream",
     "text": [
      "2024-06-08 15:55:36,050 - INFO - Initializing the LLMAnalyzer\n",
      "2024-06-08 15:55:36,078 - INFO - LLMAnalyzer initialized successfully\n"
     ]
    }
   ],
   "source": [
    "analyzer = LLMAnalyzer()"
   ],
   "metadata": {
    "collapsed": false,
    "ExecuteTime": {
     "end_time": "2024-06-08T07:55:36.493724Z",
     "start_time": "2024-06-08T07:55:36.049278Z"
    }
   },
   "id": "77fdca391dbe0302",
   "execution_count": 2
  },
  {
   "cell_type": "code",
   "outputs": [],
   "source": [
    "yaml_list = ['因子组成','因子挖掘','模型种类','选股范围','最低换手','最高换手','持股数量']"
   ],
   "metadata": {
    "collapsed": false,
    "ExecuteTime": {
     "end_time": "2024-06-08T07:55:36.497129Z",
     "start_time": "2024-06-08T07:55:36.494728Z"
    }
   },
   "id": "4e64cc615b053bf4",
   "execution_count": 3
  },
  {
   "cell_type": "code",
   "outputs": [
    {
     "name": "stderr",
     "output_type": "stream",
     "text": [
      "2024-06-08 15:55:39,261 - INFO - HTTP Request: POST https://api.moonshot.cn/v1/chat/completions \"HTTP/1.1 200 OK\"\n",
      "2024-06-08 15:55:40,146 - INFO - HTTP Request: POST https://api.moonshot.cn/v1/chat/completions \"HTTP/1.1 200 OK\"\n",
      "2024-06-08 15:55:41,014 - INFO - HTTP Request: POST https://api.moonshot.cn/v1/chat/completions \"HTTP/1.1 200 OK\"\n",
      "2024-06-08 15:55:42,459 - INFO - HTTP Request: POST https://api.moonshot.cn/v1/chat/completions \"HTTP/1.1 200 OK\"\n",
      "2024-06-08 15:55:44,023 - INFO - HTTP Request: POST https://api.moonshot.cn/v1/chat/completions \"HTTP/1.1 200 OK\"\n",
      "2024-06-08 15:55:45,603 - INFO - HTTP Request: POST https://api.moonshot.cn/v1/chat/completions \"HTTP/1.1 200 OK\"\n",
      "2024-06-08 15:55:46,931 - INFO - HTTP Request: POST https://api.moonshot.cn/v1/chat/completions \"HTTP/1.1 200 OK\"\n",
      "2024-06-08 15:55:47,979 - INFO - HTTP Request: POST https://api.moonshot.cn/v1/chat/completions \"HTTP/1.1 200 OK\"\n",
      "2024-06-08 15:55:48,766 - INFO - HTTP Request: POST https://api.moonshot.cn/v1/chat/completions \"HTTP/1.1 200 OK\"\n",
      "2024-06-08 15:55:49,957 - INFO - HTTP Request: POST https://api.moonshot.cn/v1/chat/completions \"HTTP/1.1 200 OK\"\n",
      "2024-06-08 15:55:51,213 - INFO - HTTP Request: POST https://api.moonshot.cn/v1/chat/completions \"HTTP/1.1 200 OK\"\n",
      "2024-06-08 15:55:52,158 - INFO - HTTP Request: POST https://api.moonshot.cn/v1/chat/completions \"HTTP/1.1 200 OK\"\n",
      "2024-06-08 15:55:53,985 - INFO - HTTP Request: POST https://api.moonshot.cn/v1/chat/completions \"HTTP/1.1 200 OK\"\n",
      "2024-06-08 15:55:54,949 - INFO - HTTP Request: POST https://api.moonshot.cn/v1/chat/completions \"HTTP/1.1 200 OK\"\n",
      "2024-06-08 15:55:56,168 - INFO - HTTP Request: POST https://api.moonshot.cn/v1/chat/completions \"HTTP/1.1 200 OK\"\n",
      "2024-06-08 15:55:57,108 - INFO - HTTP Request: POST https://api.moonshot.cn/v1/chat/completions \"HTTP/1.1 200 OK\"\n",
      "2024-06-08 15:55:57,984 - INFO - HTTP Request: POST https://api.moonshot.cn/v1/chat/completions \"HTTP/1.1 200 OK\"\n",
      "2024-06-08 15:55:58,823 - INFO - HTTP Request: POST https://api.moonshot.cn/v1/chat/completions \"HTTP/1.1 200 OK\"\n",
      "2024-06-08 15:55:59,898 - INFO - HTTP Request: POST https://api.moonshot.cn/v1/chat/completions \"HTTP/1.1 200 OK\"\n",
      "2024-06-08 15:56:00,909 - INFO - HTTP Request: POST https://api.moonshot.cn/v1/chat/completions \"HTTP/1.1 200 OK\"\n",
      "2024-06-08 15:56:01,499 - INFO - HTTP Request: POST https://api.moonshot.cn/v1/chat/completions \"HTTP/1.1 200 OK\"\n",
      "2024-06-08 15:56:01,966 - INFO - HTTP Request: POST https://api.moonshot.cn/v1/chat/completions \"HTTP/1.1 200 OK\"\n",
      "2024-06-08 15:56:02,523 - INFO - HTTP Request: POST https://api.moonshot.cn/v1/chat/completions \"HTTP/1.1 200 OK\"\n",
      "2024-06-08 15:56:02,958 - INFO - HTTP Request: POST https://api.moonshot.cn/v1/chat/completions \"HTTP/1.1 200 OK\"\n",
      "2024-06-08 15:56:03,951 - INFO - HTTP Request: POST https://api.moonshot.cn/v1/chat/completions \"HTTP/1.1 200 OK\"\n",
      "2024-06-08 15:56:05,788 - INFO - HTTP Request: POST https://api.moonshot.cn/v1/chat/completions \"HTTP/1.1 200 OK\"\n",
      "2024-06-08 15:56:06,680 - INFO - HTTP Request: POST https://api.moonshot.cn/v1/chat/completions \"HTTP/1.1 200 OK\"\n",
      "2024-06-08 15:56:07,205 - INFO - HTTP Request: POST https://api.moonshot.cn/v1/chat/completions \"HTTP/1.1 200 OK\"\n",
      "2024-06-08 15:56:08,272 - INFO - HTTP Request: POST https://api.moonshot.cn/v1/chat/completions \"HTTP/1.1 200 OK\"\n",
      "2024-06-08 15:56:08,848 - INFO - HTTP Request: POST https://api.moonshot.cn/v1/chat/completions \"HTTP/1.1 200 OK\"\n",
      "2024-06-08 15:56:09,737 - INFO - HTTP Request: POST https://api.moonshot.cn/v1/chat/completions \"HTTP/1.1 200 OK\"\n",
      "2024-06-08 15:56:10,267 - INFO - HTTP Request: POST https://api.moonshot.cn/v1/chat/completions \"HTTP/1.1 200 OK\"\n",
      "2024-06-08 15:56:10,694 - INFO - HTTP Request: POST https://api.moonshot.cn/v1/chat/completions \"HTTP/1.1 200 OK\"\n",
      "2024-06-08 15:56:12,105 - INFO - HTTP Request: POST https://api.moonshot.cn/v1/chat/completions \"HTTP/1.1 200 OK\"\n",
      "2024-06-08 15:56:12,939 - INFO - HTTP Request: POST https://api.moonshot.cn/v1/chat/completions \"HTTP/1.1 200 OK\"\n",
      "2024-06-08 15:56:13,524 - INFO - HTTP Request: POST https://api.moonshot.cn/v1/chat/completions \"HTTP/1.1 200 OK\"\n",
      "2024-06-08 15:56:14,224 - INFO - HTTP Request: POST https://api.moonshot.cn/v1/chat/completions \"HTTP/1.1 200 OK\"\n",
      "2024-06-08 15:56:14,683 - INFO - HTTP Request: POST https://api.moonshot.cn/v1/chat/completions \"HTTP/1.1 200 OK\"\n",
      "2024-06-08 15:56:15,144 - INFO - HTTP Request: POST https://api.moonshot.cn/v1/chat/completions \"HTTP/1.1 200 OK\"\n",
      "2024-06-08 15:56:15,882 - INFO - HTTP Request: POST https://api.moonshot.cn/v1/chat/completions \"HTTP/1.1 200 OK\"\n",
      "2024-06-08 15:56:16,816 - INFO - HTTP Request: POST https://api.moonshot.cn/v1/chat/completions \"HTTP/1.1 200 OK\"\n",
      "2024-06-08 15:56:17,251 - INFO - HTTP Request: POST https://api.moonshot.cn/v1/chat/completions \"HTTP/1.1 200 OK\"\n",
      "2024-06-08 15:56:17,728 - INFO - HTTP Request: POST https://api.moonshot.cn/v1/chat/completions \"HTTP/1.1 200 OK\"\n",
      "2024-06-08 15:56:18,206 - INFO - HTTP Request: POST https://api.moonshot.cn/v1/chat/completions \"HTTP/1.1 200 OK\"\n",
      "2024-06-08 15:56:18,715 - INFO - HTTP Request: POST https://api.moonshot.cn/v1/chat/completions \"HTTP/1.1 200 OK\"\n",
      "2024-06-08 15:56:19,507 - INFO - HTTP Request: POST https://api.moonshot.cn/v1/chat/completions \"HTTP/1.1 200 OK\"\n",
      "2024-06-08 15:56:20,012 - INFO - HTTP Request: POST https://api.moonshot.cn/v1/chat/completions \"HTTP/1.1 200 OK\"\n",
      "2024-06-08 15:56:20,805 - INFO - HTTP Request: POST https://api.moonshot.cn/v1/chat/completions \"HTTP/1.1 200 OK\"\n",
      "2024-06-08 15:56:21,240 - INFO - HTTP Request: POST https://api.moonshot.cn/v1/chat/completions \"HTTP/1.1 200 OK\"\n",
      "2024-06-08 15:56:22,330 - INFO - HTTP Request: POST https://api.moonshot.cn/v1/chat/completions \"HTTP/1.1 200 OK\"\n",
      "2024-06-08 15:56:22,788 - INFO - HTTP Request: POST https://api.moonshot.cn/v1/chat/completions \"HTTP/1.1 200 OK\"\n",
      "2024-06-08 15:56:23,498 - INFO - HTTP Request: POST https://api.moonshot.cn/v1/chat/completions \"HTTP/1.1 200 OK\"\n",
      "2024-06-08 15:56:23,952 - INFO - HTTP Request: POST https://api.moonshot.cn/v1/chat/completions \"HTTP/1.1 200 OK\"\n",
      "2024-06-08 15:56:24,433 - INFO - HTTP Request: POST https://api.moonshot.cn/v1/chat/completions \"HTTP/1.1 200 OK\"\n",
      "2024-06-08 15:56:25,241 - INFO - HTTP Request: POST https://api.moonshot.cn/v1/chat/completions \"HTTP/1.1 200 OK\"\n",
      "2024-06-08 15:56:25,794 - INFO - HTTP Request: POST https://api.moonshot.cn/v1/chat/completions \"HTTP/1.1 200 OK\"\n",
      "2024-06-08 15:56:26,304 - INFO - HTTP Request: POST https://api.moonshot.cn/v1/chat/completions \"HTTP/1.1 200 OK\"\n",
      "2024-06-08 15:56:27,135 - INFO - HTTP Request: POST https://api.moonshot.cn/v1/chat/completions \"HTTP/1.1 200 OK\"\n",
      "2024-06-08 15:56:27,981 - INFO - HTTP Request: POST https://api.moonshot.cn/v1/chat/completions \"HTTP/1.1 200 OK\"\n",
      "2024-06-08 15:56:28,565 - INFO - HTTP Request: POST https://api.moonshot.cn/v1/chat/completions \"HTTP/1.1 200 OK\"\n",
      "2024-06-08 15:56:29,591 - INFO - HTTP Request: POST https://api.moonshot.cn/v1/chat/completions \"HTTP/1.1 200 OK\"\n",
      "2024-06-08 15:56:30,123 - INFO - HTTP Request: POST https://api.moonshot.cn/v1/chat/completions \"HTTP/1.1 200 OK\"\n",
      "2024-06-08 15:56:30,852 - INFO - HTTP Request: POST https://api.moonshot.cn/v1/chat/completions \"HTTP/1.1 200 OK\"\n",
      "2024-06-08 15:56:31,378 - INFO - HTTP Request: POST https://api.moonshot.cn/v1/chat/completions \"HTTP/1.1 200 OK\"\n",
      "2024-06-08 15:56:32,301 - INFO - HTTP Request: POST https://api.moonshot.cn/v1/chat/completions \"HTTP/1.1 200 OK\"\n",
      "2024-06-08 15:56:32,917 - INFO - HTTP Request: POST https://api.moonshot.cn/v1/chat/completions \"HTTP/1.1 200 OK\"\n",
      "2024-06-08 15:56:33,741 - INFO - HTTP Request: POST https://api.moonshot.cn/v1/chat/completions \"HTTP/1.1 200 OK\"\n",
      "2024-06-08 15:56:34,829 - INFO - HTTP Request: POST https://api.moonshot.cn/v1/chat/completions \"HTTP/1.1 200 OK\"\n",
      "2024-06-08 15:56:35,903 - INFO - HTTP Request: POST https://api.moonshot.cn/v1/chat/completions \"HTTP/1.1 200 OK\"\n",
      "2024-06-08 15:56:36,546 - INFO - HTTP Request: POST https://api.moonshot.cn/v1/chat/completions \"HTTP/1.1 200 OK\"\n",
      "2024-06-08 15:56:37,072 - INFO - HTTP Request: POST https://api.moonshot.cn/v1/chat/completions \"HTTP/1.1 200 OK\"\n",
      "2024-06-08 15:56:37,661 - INFO - HTTP Request: POST https://api.moonshot.cn/v1/chat/completions \"HTTP/1.1 200 OK\"\n",
      "2024-06-08 15:56:38,273 - INFO - HTTP Request: POST https://api.moonshot.cn/v1/chat/completions \"HTTP/1.1 200 OK\"\n",
      "2024-06-08 15:56:39,495 - INFO - HTTP Request: POST https://api.moonshot.cn/v1/chat/completions \"HTTP/1.1 200 OK\"\n",
      "2024-06-08 15:56:40,035 - INFO - HTTP Request: POST https://api.moonshot.cn/v1/chat/completions \"HTTP/1.1 200 OK\"\n",
      "2024-06-08 15:56:40,662 - INFO - HTTP Request: POST https://api.moonshot.cn/v1/chat/completions \"HTTP/1.1 200 OK\"\n",
      "2024-06-08 15:56:41,537 - INFO - HTTP Request: POST https://api.moonshot.cn/v1/chat/completions \"HTTP/1.1 200 OK\"\n",
      "2024-06-08 15:56:42,509 - INFO - HTTP Request: POST https://api.moonshot.cn/v1/chat/completions \"HTTP/1.1 200 OK\"\n",
      "2024-06-08 15:56:43,046 - INFO - HTTP Request: POST https://api.moonshot.cn/v1/chat/completions \"HTTP/1.1 200 OK\"\n",
      "2024-06-08 15:56:43,533 - INFO - HTTP Request: POST https://api.moonshot.cn/v1/chat/completions \"HTTP/1.1 200 OK\"\n",
      "2024-06-08 15:56:44,420 - INFO - HTTP Request: POST https://api.moonshot.cn/v1/chat/completions \"HTTP/1.1 200 OK\"\n",
      "2024-06-08 15:56:45,680 - INFO - HTTP Request: POST https://api.moonshot.cn/v1/chat/completions \"HTTP/1.1 200 OK\"\n",
      "2024-06-08 15:56:46,576 - INFO - HTTP Request: POST https://api.moonshot.cn/v1/chat/completions \"HTTP/1.1 200 OK\"\n",
      "2024-06-08 15:56:46,972 - INFO - HTTP Request: POST https://api.moonshot.cn/v1/chat/completions \"HTTP/1.1 200 OK\"\n",
      "2024-06-08 15:56:48,011 - INFO - HTTP Request: POST https://api.moonshot.cn/v1/chat/completions \"HTTP/1.1 200 OK\"\n",
      "2024-06-08 15:56:48,560 - INFO - HTTP Request: POST https://api.moonshot.cn/v1/chat/completions \"HTTP/1.1 200 OK\"\n",
      "2024-06-08 15:56:49,413 - INFO - HTTP Request: POST https://api.moonshot.cn/v1/chat/completions \"HTTP/1.1 200 OK\"\n",
      "2024-06-08 15:56:50,208 - INFO - HTTP Request: POST https://api.moonshot.cn/v1/chat/completions \"HTTP/1.1 200 OK\"\n",
      "2024-06-08 15:56:50,663 - INFO - HTTP Request: POST https://api.moonshot.cn/v1/chat/completions \"HTTP/1.1 200 OK\"\n",
      "2024-06-08 15:56:51,745 - INFO - HTTP Request: POST https://api.moonshot.cn/v1/chat/completions \"HTTP/1.1 200 OK\"\n",
      "2024-06-08 15:56:52,254 - INFO - HTTP Request: POST https://api.moonshot.cn/v1/chat/completions \"HTTP/1.1 200 OK\"\n",
      "2024-06-08 15:56:52,810 - INFO - HTTP Request: POST https://api.moonshot.cn/v1/chat/completions \"HTTP/1.1 200 OK\"\n",
      "2024-06-08 15:56:53,319 - INFO - HTTP Request: POST https://api.moonshot.cn/v1/chat/completions \"HTTP/1.1 200 OK\"\n",
      "2024-06-08 15:56:53,850 - INFO - HTTP Request: POST https://api.moonshot.cn/v1/chat/completions \"HTTP/1.1 200 OK\"\n",
      "2024-06-08 15:56:55,281 - INFO - HTTP Request: POST https://api.moonshot.cn/v1/chat/completions \"HTTP/1.1 200 OK\"\n",
      "2024-06-08 15:56:56,381 - INFO - HTTP Request: POST https://api.moonshot.cn/v1/chat/completions \"HTTP/1.1 200 OK\"\n",
      "2024-06-08 15:56:57,499 - INFO - HTTP Request: POST https://api.moonshot.cn/v1/chat/completions \"HTTP/1.1 200 OK\"\n",
      "2024-06-08 15:56:57,922 - INFO - HTTP Request: POST https://api.moonshot.cn/v1/chat/completions \"HTTP/1.1 200 OK\"\n",
      "2024-06-08 15:56:58,500 - INFO - HTTP Request: POST https://api.moonshot.cn/v1/chat/completions \"HTTP/1.1 200 OK\"\n",
      "2024-06-08 15:56:59,015 - INFO - HTTP Request: POST https://api.moonshot.cn/v1/chat/completions \"HTTP/1.1 200 OK\"\n",
      "2024-06-08 15:56:59,504 - INFO - HTTP Request: POST https://api.moonshot.cn/v1/chat/completions \"HTTP/1.1 200 OK\"\n",
      "2024-06-08 15:56:59,962 - INFO - HTTP Request: POST https://api.moonshot.cn/v1/chat/completions \"HTTP/1.1 200 OK\"\n",
      "2024-06-08 15:57:00,394 - INFO - HTTP Request: POST https://api.moonshot.cn/v1/chat/completions \"HTTP/1.1 200 OK\"\n",
      "2024-06-08 15:57:01,174 - INFO - HTTP Request: POST https://api.moonshot.cn/v1/chat/completions \"HTTP/1.1 200 OK\"\n",
      "2024-06-08 15:57:01,236 - INFO - HTTP Request: POST https://api.moonshot.cn/v1/chat/completions \"HTTP/1.1 429 Too Many Requests\"\n",
      "2024-06-08 15:57:01,237 - INFO - Retrying request to /chat/completions in 0.803402 seconds\n",
      "2024-06-08 15:57:02,529 - INFO - HTTP Request: POST https://api.moonshot.cn/v1/chat/completions \"HTTP/1.1 200 OK\"\n",
      "2024-06-08 15:57:03,002 - INFO - HTTP Request: POST https://api.moonshot.cn/v1/chat/completions \"HTTP/1.1 200 OK\"\n",
      "2024-06-08 15:57:03,940 - INFO - HTTP Request: POST https://api.moonshot.cn/v1/chat/completions \"HTTP/1.1 200 OK\"\n",
      "2024-06-08 15:57:04,725 - INFO - HTTP Request: POST https://api.moonshot.cn/v1/chat/completions \"HTTP/1.1 200 OK\"\n",
      "2024-06-08 15:57:05,133 - INFO - HTTP Request: POST https://api.moonshot.cn/v1/chat/completions \"HTTP/1.1 200 OK\"\n",
      "2024-06-08 15:57:05,954 - INFO - HTTP Request: POST https://api.moonshot.cn/v1/chat/completions \"HTTP/1.1 200 OK\"\n",
      "2024-06-08 15:57:06,479 - INFO - HTTP Request: POST https://api.moonshot.cn/v1/chat/completions \"HTTP/1.1 200 OK\"\n",
      "2024-06-08 15:57:06,980 - INFO - HTTP Request: POST https://api.moonshot.cn/v1/chat/completions \"HTTP/1.1 200 OK\"\n",
      "2024-06-08 15:57:07,534 - INFO - HTTP Request: POST https://api.moonshot.cn/v1/chat/completions \"HTTP/1.1 200 OK\"\n",
      "2024-06-08 15:57:08,484 - INFO - HTTP Request: POST https://api.moonshot.cn/v1/chat/completions \"HTTP/1.1 200 OK\"\n",
      "2024-06-08 15:57:08,984 - INFO - HTTP Request: POST https://api.moonshot.cn/v1/chat/completions \"HTTP/1.1 200 OK\"\n",
      "2024-06-08 15:57:09,936 - INFO - HTTP Request: POST https://api.moonshot.cn/v1/chat/completions \"HTTP/1.1 200 OK\"\n",
      "2024-06-08 15:57:10,433 - INFO - HTTP Request: POST https://api.moonshot.cn/v1/chat/completions \"HTTP/1.1 200 OK\"\n",
      "2024-06-08 15:57:11,111 - INFO - HTTP Request: POST https://api.moonshot.cn/v1/chat/completions \"HTTP/1.1 200 OK\"\n",
      "2024-06-08 15:57:11,596 - INFO - HTTP Request: POST https://api.moonshot.cn/v1/chat/completions \"HTTP/1.1 200 OK\"\n",
      "2024-06-08 15:57:12,674 - INFO - HTTP Request: POST https://api.moonshot.cn/v1/chat/completions \"HTTP/1.1 200 OK\"\n",
      "2024-06-08 15:57:13,141 - INFO - HTTP Request: POST https://api.moonshot.cn/v1/chat/completions \"HTTP/1.1 200 OK\"\n",
      "2024-06-08 15:57:13,823 - INFO - HTTP Request: POST https://api.moonshot.cn/v1/chat/completions \"HTTP/1.1 200 OK\"\n",
      "2024-06-08 15:57:14,545 - INFO - HTTP Request: POST https://api.moonshot.cn/v1/chat/completions \"HTTP/1.1 200 OK\"\n",
      "2024-06-08 15:57:14,914 - INFO - HTTP Request: POST https://api.moonshot.cn/v1/chat/completions \"HTTP/1.1 200 OK\"\n",
      "2024-06-08 15:57:15,609 - INFO - HTTP Request: POST https://api.moonshot.cn/v1/chat/completions \"HTTP/1.1 200 OK\"\n",
      "2024-06-08 15:57:15,930 - INFO - HTTP Request: POST https://api.moonshot.cn/v1/chat/completions \"HTTP/1.1 200 OK\"\n",
      "2024-06-08 15:57:16,432 - INFO - HTTP Request: POST https://api.moonshot.cn/v1/chat/completions \"HTTP/1.1 200 OK\"\n",
      "2024-06-08 15:57:16,792 - INFO - HTTP Request: POST https://api.moonshot.cn/v1/chat/completions \"HTTP/1.1 200 OK\"\n",
      "2024-06-08 15:57:17,186 - INFO - HTTP Request: POST https://api.moonshot.cn/v1/chat/completions \"HTTP/1.1 200 OK\"\n",
      "2024-06-08 15:57:17,666 - INFO - HTTP Request: POST https://api.moonshot.cn/v1/chat/completions \"HTTP/1.1 200 OK\"\n",
      "2024-06-08 15:57:18,079 - INFO - HTTP Request: POST https://api.moonshot.cn/v1/chat/completions \"HTTP/1.1 200 OK\"\n",
      "2024-06-08 15:57:18,837 - INFO - HTTP Request: POST https://api.moonshot.cn/v1/chat/completions \"HTTP/1.1 200 OK\"\n",
      "2024-06-08 15:57:19,288 - INFO - HTTP Request: POST https://api.moonshot.cn/v1/chat/completions \"HTTP/1.1 200 OK\"\n",
      "2024-06-08 15:57:19,647 - INFO - HTTP Request: POST https://api.moonshot.cn/v1/chat/completions \"HTTP/1.1 200 OK\"\n",
      "2024-06-08 15:57:20,037 - INFO - HTTP Request: POST https://api.moonshot.cn/v1/chat/completions \"HTTP/1.1 200 OK\"\n",
      "2024-06-08 15:57:20,426 - INFO - HTTP Request: POST https://api.moonshot.cn/v1/chat/completions \"HTTP/1.1 200 OK\"\n",
      "2024-06-08 15:57:21,507 - INFO - HTTP Request: POST https://api.moonshot.cn/v1/chat/completions \"HTTP/1.1 200 OK\"\n",
      "2024-06-08 15:57:21,926 - INFO - HTTP Request: POST https://api.moonshot.cn/v1/chat/completions \"HTTP/1.1 200 OK\"\n",
      "2024-06-08 15:57:22,636 - INFO - HTTP Request: POST https://api.moonshot.cn/v1/chat/completions \"HTTP/1.1 200 OK\"\n",
      "2024-06-08 15:57:23,028 - INFO - HTTP Request: POST https://api.moonshot.cn/v1/chat/completions \"HTTP/1.1 200 OK\"\n",
      "2024-06-08 15:57:23,029 - INFO - Data extraction and processing completed successfully\n"
     ]
    },
    {
     "data": {
      "text/plain": "                        公司名称                   因子组成  因子挖掘 模型种类   选股范围  \\\n0             上海凯纳璞淳资产管理有限公司  量价类因子：20%; 基本面因子：40%。  机器学习  非线性  全市场选股   \n1               上海杉树资产管理有限公司  量价类因子：20%; 基本面因子：10%。  机器学习  非线性  全市场选股   \n2               上海泓赫投资管理有限公司  量价类因子：70%; 基本面因子：30%。  手工挖掘   线性  全市场选股   \n3               上海石锋资产管理有限公司  量价类因子：70%; 基本面因子：15%。  手工挖掘  非线性  全市场选股   \n4             上海磐松私募基金管理有限公司  量价类因子：10%; 基本面因子：90%。  手工挖掘  非线性  全市场选股   \n5             上海象上私募基金管理有限公司  量价类因子：50%; 基本面因子：40%。  机器学习  非线性  全市场选股   \n6               上海量魁资产管理有限公司  量价类因子：60%; 基本面因子：32%。  手工挖掘  非线性  全市场选股   \n7             上海骞瑞私募基金管理有限公司  量价类因子：80%; 基本面因子：20%。  手工挖掘  非线性  全市场选股   \n8             北京涌金春生投资管理有限公司  量价类因子：40%; 基本面因子：60%。  手工挖掘  非线性  指数内选股   \n9             南京倍漾私募基金管理有限公司  量价类因子：70%; 基本面因子：30%。  机器学习  非线性  全市场选股   \n10              浙江蝶威资产管理有限公司  量价类因子：80%; 基本面因子：20%。  手工挖掘  非线性  全市场选股   \n11        海南澎湃私募基金管理中心(有限合伙)  量价类因子：20%; 基本面因子：50%。  手工挖掘   线性  全市场选股   \n12            海南盛丰私募基金管理有限公司   量价类因子：85%; 基本面因子：9%。  手工挖掘  非线性  全市场选股   \n13            深圳前海知行资产管理有限公司  量价类因子：100%; 基本面因子：0%。  手工挖掘   线性  全市场选股   \n14    致诚卓远（珠海）投资管理合伙企业（有限合伙）  量价类因子：90%; 基本面因子：10%。  机器学习  非线性  全市场选股   \n15            英旷资产管理（上海）有限公司  量价类因子：70%; 基本面因子：30%。  机器学习  非线性  全市场选股   \n16  茂源量化（海南）私募基金管理合伙企业（有限合伙）  量价类因子：70%; 基本面因子：20%。  机器学习  非线性  全市场选股   \n17            衍合投资管理(青岛)有限公司  量价类因子：50%; 基本面因子：30%。  手工挖掘  非线性  指数内选股   \n18            青岛明德智行投资管理有限公司  量价类因子：80%; 基本面因子：20%。  机器学习  非线性  指数内选股   \n19          青岛永誉天泽私募基金管理有限公司  量价类因子：60%; 基本面因子：40%。  手工挖掘  非线性  全市场选股   \n\n       最低换手     最高换手  持股数量  \n0    换手率40倍   换手率40倍   200  \n1   换手率100倍  换手率100倍   400  \n2    换手率12倍   换手率12倍   200  \n3   换手率200倍  换手率200倍   700  \n4    换手率12倍   换手率40倍   500  \n5    换手率60倍   换手率80倍   200  \n6    换手率40倍  换手率100倍  1000  \n7    换手率50倍  换手率100倍  1000  \n8    换手率10倍   换手率10倍   500  \n9   换手率200倍  换手率200倍  1500  \n10   换手率10倍   换手率80倍  1000  \n11   换手率12倍   换手率12倍   800  \n12   换手率60倍   换手率60倍  1600  \n13  换手率100倍  换手率100倍   800  \n14   换手率80倍   换手率80倍  2000  \n15   换手率50倍  换手率100倍   300  \n16  换手率100倍  换手率150倍  3000  \n17   换手率50倍   换手率50倍   500  \n18   换手率50倍   换手率80倍   300  \n19   换手率60倍   换手率80倍   400  ",
      "text/html": "<div>\n<style scoped>\n    .dataframe tbody tr th:only-of-type {\n        vertical-align: middle;\n    }\n\n    .dataframe tbody tr th {\n        vertical-align: top;\n    }\n\n    .dataframe thead th {\n        text-align: right;\n    }\n</style>\n<table border=\"1\" class=\"dataframe\">\n  <thead>\n    <tr style=\"text-align: right;\">\n      <th></th>\n      <th>公司名称</th>\n      <th>因子组成</th>\n      <th>因子挖掘</th>\n      <th>模型种类</th>\n      <th>选股范围</th>\n      <th>最低换手</th>\n      <th>最高换手</th>\n      <th>持股数量</th>\n    </tr>\n  </thead>\n  <tbody>\n    <tr>\n      <th>0</th>\n      <td>上海凯纳璞淳资产管理有限公司</td>\n      <td>量价类因子：20%; 基本面因子：40%。</td>\n      <td>机器学习</td>\n      <td>非线性</td>\n      <td>全市场选股</td>\n      <td>换手率40倍</td>\n      <td>换手率40倍</td>\n      <td>200</td>\n    </tr>\n    <tr>\n      <th>1</th>\n      <td>上海杉树资产管理有限公司</td>\n      <td>量价类因子：20%; 基本面因子：10%。</td>\n      <td>机器学习</td>\n      <td>非线性</td>\n      <td>全市场选股</td>\n      <td>换手率100倍</td>\n      <td>换手率100倍</td>\n      <td>400</td>\n    </tr>\n    <tr>\n      <th>2</th>\n      <td>上海泓赫投资管理有限公司</td>\n      <td>量价类因子：70%; 基本面因子：30%。</td>\n      <td>手工挖掘</td>\n      <td>线性</td>\n      <td>全市场选股</td>\n      <td>换手率12倍</td>\n      <td>换手率12倍</td>\n      <td>200</td>\n    </tr>\n    <tr>\n      <th>3</th>\n      <td>上海石锋资产管理有限公司</td>\n      <td>量价类因子：70%; 基本面因子：15%。</td>\n      <td>手工挖掘</td>\n      <td>非线性</td>\n      <td>全市场选股</td>\n      <td>换手率200倍</td>\n      <td>换手率200倍</td>\n      <td>700</td>\n    </tr>\n    <tr>\n      <th>4</th>\n      <td>上海磐松私募基金管理有限公司</td>\n      <td>量价类因子：10%; 基本面因子：90%。</td>\n      <td>手工挖掘</td>\n      <td>非线性</td>\n      <td>全市场选股</td>\n      <td>换手率12倍</td>\n      <td>换手率40倍</td>\n      <td>500</td>\n    </tr>\n    <tr>\n      <th>5</th>\n      <td>上海象上私募基金管理有限公司</td>\n      <td>量价类因子：50%; 基本面因子：40%。</td>\n      <td>机器学习</td>\n      <td>非线性</td>\n      <td>全市场选股</td>\n      <td>换手率60倍</td>\n      <td>换手率80倍</td>\n      <td>200</td>\n    </tr>\n    <tr>\n      <th>6</th>\n      <td>上海量魁资产管理有限公司</td>\n      <td>量价类因子：60%; 基本面因子：32%。</td>\n      <td>手工挖掘</td>\n      <td>非线性</td>\n      <td>全市场选股</td>\n      <td>换手率40倍</td>\n      <td>换手率100倍</td>\n      <td>1000</td>\n    </tr>\n    <tr>\n      <th>7</th>\n      <td>上海骞瑞私募基金管理有限公司</td>\n      <td>量价类因子：80%; 基本面因子：20%。</td>\n      <td>手工挖掘</td>\n      <td>非线性</td>\n      <td>全市场选股</td>\n      <td>换手率50倍</td>\n      <td>换手率100倍</td>\n      <td>1000</td>\n    </tr>\n    <tr>\n      <th>8</th>\n      <td>北京涌金春生投资管理有限公司</td>\n      <td>量价类因子：40%; 基本面因子：60%。</td>\n      <td>手工挖掘</td>\n      <td>非线性</td>\n      <td>指数内选股</td>\n      <td>换手率10倍</td>\n      <td>换手率10倍</td>\n      <td>500</td>\n    </tr>\n    <tr>\n      <th>9</th>\n      <td>南京倍漾私募基金管理有限公司</td>\n      <td>量价类因子：70%; 基本面因子：30%。</td>\n      <td>机器学习</td>\n      <td>非线性</td>\n      <td>全市场选股</td>\n      <td>换手率200倍</td>\n      <td>换手率200倍</td>\n      <td>1500</td>\n    </tr>\n    <tr>\n      <th>10</th>\n      <td>浙江蝶威资产管理有限公司</td>\n      <td>量价类因子：80%; 基本面因子：20%。</td>\n      <td>手工挖掘</td>\n      <td>非线性</td>\n      <td>全市场选股</td>\n      <td>换手率10倍</td>\n      <td>换手率80倍</td>\n      <td>1000</td>\n    </tr>\n    <tr>\n      <th>11</th>\n      <td>海南澎湃私募基金管理中心(有限合伙)</td>\n      <td>量价类因子：20%; 基本面因子：50%。</td>\n      <td>手工挖掘</td>\n      <td>线性</td>\n      <td>全市场选股</td>\n      <td>换手率12倍</td>\n      <td>换手率12倍</td>\n      <td>800</td>\n    </tr>\n    <tr>\n      <th>12</th>\n      <td>海南盛丰私募基金管理有限公司</td>\n      <td>量价类因子：85%; 基本面因子：9%。</td>\n      <td>手工挖掘</td>\n      <td>非线性</td>\n      <td>全市场选股</td>\n      <td>换手率60倍</td>\n      <td>换手率60倍</td>\n      <td>1600</td>\n    </tr>\n    <tr>\n      <th>13</th>\n      <td>深圳前海知行资产管理有限公司</td>\n      <td>量价类因子：100%; 基本面因子：0%。</td>\n      <td>手工挖掘</td>\n      <td>线性</td>\n      <td>全市场选股</td>\n      <td>换手率100倍</td>\n      <td>换手率100倍</td>\n      <td>800</td>\n    </tr>\n    <tr>\n      <th>14</th>\n      <td>致诚卓远（珠海）投资管理合伙企业（有限合伙）</td>\n      <td>量价类因子：90%; 基本面因子：10%。</td>\n      <td>机器学习</td>\n      <td>非线性</td>\n      <td>全市场选股</td>\n      <td>换手率80倍</td>\n      <td>换手率80倍</td>\n      <td>2000</td>\n    </tr>\n    <tr>\n      <th>15</th>\n      <td>英旷资产管理（上海）有限公司</td>\n      <td>量价类因子：70%; 基本面因子：30%。</td>\n      <td>机器学习</td>\n      <td>非线性</td>\n      <td>全市场选股</td>\n      <td>换手率50倍</td>\n      <td>换手率100倍</td>\n      <td>300</td>\n    </tr>\n    <tr>\n      <th>16</th>\n      <td>茂源量化（海南）私募基金管理合伙企业（有限合伙）</td>\n      <td>量价类因子：70%; 基本面因子：20%。</td>\n      <td>机器学习</td>\n      <td>非线性</td>\n      <td>全市场选股</td>\n      <td>换手率100倍</td>\n      <td>换手率150倍</td>\n      <td>3000</td>\n    </tr>\n    <tr>\n      <th>17</th>\n      <td>衍合投资管理(青岛)有限公司</td>\n      <td>量价类因子：50%; 基本面因子：30%。</td>\n      <td>手工挖掘</td>\n      <td>非线性</td>\n      <td>指数内选股</td>\n      <td>换手率50倍</td>\n      <td>换手率50倍</td>\n      <td>500</td>\n    </tr>\n    <tr>\n      <th>18</th>\n      <td>青岛明德智行投资管理有限公司</td>\n      <td>量价类因子：80%; 基本面因子：20%。</td>\n      <td>机器学习</td>\n      <td>非线性</td>\n      <td>指数内选股</td>\n      <td>换手率50倍</td>\n      <td>换手率80倍</td>\n      <td>300</td>\n    </tr>\n    <tr>\n      <th>19</th>\n      <td>青岛永誉天泽私募基金管理有限公司</td>\n      <td>量价类因子：60%; 基本面因子：40%。</td>\n      <td>手工挖掘</td>\n      <td>非线性</td>\n      <td>全市场选股</td>\n      <td>换手率60倍</td>\n      <td>换手率80倍</td>\n      <td>400</td>\n    </tr>\n  </tbody>\n</table>\n</div>"
     },
     "execution_count": 4,
     "metadata": {},
     "output_type": "execute_result"
    }
   ],
   "source": [
    "df = analyzer.get_answer_from_mysql(yaml_list,[])\n",
    "df"
   ],
   "metadata": {
    "collapsed": false,
    "ExecuteTime": {
     "end_time": "2024-06-08T07:57:23.038729Z",
     "start_time": "2024-06-08T07:55:36.713572Z"
    }
   },
   "id": "8cb5f7441e6b306f",
   "execution_count": 4
  },
  {
   "cell_type": "code",
   "outputs": [
    {
     "data": {
      "text/plain": "0"
     },
     "execution_count": 5,
     "metadata": {},
     "output_type": "execute_result"
    }
   ],
   "source": [
    "len([])"
   ],
   "metadata": {
    "collapsed": false,
    "ExecuteTime": {
     "end_time": "2024-06-08T07:13:56.235349Z",
     "start_time": "2024-06-08T07:13:56.230631Z"
    }
   },
   "id": "74cfdca6332115a0",
   "execution_count": 5
  },
  {
   "cell_type": "code",
   "outputs": [
    {
     "name": "stderr",
     "output_type": "stream",
     "text": [
      "2024-06-08 15:54:00,684 - INFO - HTTP Request: GET https://api.moonshot.cn/v1/models \"HTTP/1.1 200 OK\"\n"
     ]
    },
    {
     "name": "stdout",
     "output_type": "stream",
     "text": [
      "model[0]: moonshot-v1-8k\n",
      "model[1]: moonshot-v1-32k\n",
      "model[2]: moonshot-v1-128k\n"
     ]
    }
   ],
   "source": [
    "from openai import OpenAI\n",
    " \n",
    "client = OpenAI(\n",
    "    api_key = \"sk-vN7FP08igDLxuhgF61Xmcn5cfh379p4fTFkB7EvVZ4O0jLZb\",\n",
    "    base_url = \"https://api.moonshot.cn/v1\",\n",
    ")\n",
    "\n",
    "model_list = client.models.list()\n",
    "model_data = model_list.data\n",
    " \n",
    "for i, model in enumerate(model_data):\n",
    "    print(f\"model[{i}]:\", model.id)"
   ],
   "metadata": {
    "collapsed": false,
    "ExecuteTime": {
     "end_time": "2024-06-08T07:54:00.687346Z",
     "start_time": "2024-06-08T07:53:59.964096Z"
    }
   },
   "id": "707a243485687c32",
   "execution_count": 5
  },
  {
   "cell_type": "code",
   "outputs": [],
   "source": [],
   "metadata": {
    "collapsed": false
   },
   "id": "2a332c86e6fc465e"
  }
 ],
 "metadata": {
  "kernelspec": {
   "display_name": "Python 3",
   "language": "python",
   "name": "python3"
  },
  "language_info": {
   "codemirror_mode": {
    "name": "ipython",
    "version": 2
   },
   "file_extension": ".py",
   "mimetype": "text/x-python",
   "name": "python",
   "nbconvert_exporter": "python",
   "pygments_lexer": "ipython2",
   "version": "2.7.6"
  }
 },
 "nbformat": 4,
 "nbformat_minor": 5
}
