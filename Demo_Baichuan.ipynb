{
 "cells": [
  {
   "cell_type": "code",
   "execution_count": 34,
   "id": "initial_id",
   "metadata": {
    "collapsed": true,
    "ExecuteTime": {
     "end_time": "2024-03-15T12:22:40.982020Z",
     "start_time": "2024-03-15T12:22:40.979667Z"
    }
   },
   "outputs": [],
   "source": [
    "import torch\n",
    "from modelscope import snapshot_download, Model\n",
    "from transformers import  AutoModel,AutoTokenizer,AutoModelForCausalLM\n",
    "from transformers.generation.utils import GenerationConfig\n",
    "from functions import *"
   ]
  },
  {
   "cell_type": "code",
   "outputs": [],
   "source": [
    "# 读取模型"
   ],
   "metadata": {
    "collapsed": false
   },
   "id": "c9908de5e3504f14"
  },
  {
   "cell_type": "code",
   "outputs": [
    {
     "name": "stderr",
     "output_type": "stream",
     "text": [
      "2024-03-15 20:22:41,627 - modelscope - INFO - initialize model from Baichuan2-13B-Chat-4bits\n",
      "2024-03-15 20:22:41,632 - modelscope - WARNING - ('MODELS', 'text-generation', 'Baichuan2-13B-Chat-4bits') not found in ast index file\n"
     ]
    }
   ],
   "source": [
    "model = Model.from_pretrained(\"Baichuan2-13B-Chat-4bits\", device_map=\"auto\", trust_remote_code=True, torch_dtype=torch.float16)"
   ],
   "metadata": {
    "collapsed": false,
    "ExecuteTime": {
     "start_time": "2024-03-15T12:22:41.626857Z"
    }
   },
   "id": "e9539a3f955e45d3",
   "execution_count": null
  },
  {
   "cell_type": "code",
   "outputs": [],
   "source": [
    "prompt = \"\"\"文本总结任务：将一段描述某量化私募的配置逻辑的文本进行总结，找到其使用的因子中，量价类因子和基本面类因子的占比是多少。注意，只说量价类因子占比多少和基本面因子占比多少。\n",
    "\n",
    "下面是范例:\n",
    "核心基金经理施恩2020年形成了较为完善的策略框架，近两年主要进行一些因子方面的优化调整。目前仍然是中低频量价因子为核心，占比80%以上，基本面和另类因子大约15%。未来优化方向仍然以各领域的因子挖掘为主，逐步丰富基本面、另类、高频量价因子。子策略层面也主要是核心基金经理施恩过往开发积累的，负责组合优化的研究员主要根据基金经理指示做一些细化的研究工作。 因子层面偏好人工挖掘，对因子的逻辑性有较高要求，机器学习挖掘的因子在5%以内，通常会使用10年以上数据做观测，对近2-3年数据给予更高的权重，每个月都在持续更迭因子，无具体比例统计，入库因子大约1000个，实盘使用500个左右，因子组合以非线性为主，实盘上线了9个子策略模型，暂未使用深度的机器学习。子策略模型信号融合后生产个股截面打分，模型暂未使用半小时以内的预测，日间alpha的贡献较为突出，以3-5天频段为主。2023年新招募了1名研究员负责高频因子挖掘，新的因子和策略大约需要3个月的测试，然后进行小规模实盘，每月进行微幅的因子调整。 选股范围为全市场个股，剔除一些ST股、财务方面有重大风险的、流动性较差的新股等，风险约束方面，由于是空气指增，并未针对特定指数做一些跟踪，主要限制单一个股持仓上限0.5%，平均持仓个股600个左右，单一行业从实盘运行情况来看，不超过20%，通过个股分散的限制，产品不会在行业、概念题材中过度暴露。交易信号在全天分布，年双边换手率70倍左右，并未集中在早盘，策略对交易系统的要求是特别高，交易算法主要使用第三方算法服务商，如卡方。 \n",
    "\n",
    "根据该段的描述，回答应该为：量价类因子：80%; 基本面因子：15%\n",
    "\n",
    "接下来，请对下述文本进行总结：\n",
    "xxxxxx\n",
    "\n",
    "注意，必须严格按照该格式输出：量价类因子：X%; 基本面因子：X%\n",
    "\"\"\""
   ],
   "metadata": {
    "collapsed": false,
    "ExecuteTime": {
     "end_time": "2024-03-15T12:13:59.285964Z",
     "start_time": "2024-03-15T12:13:59.283306Z"
    }
   },
   "id": "7491a7492615451f",
   "execution_count": 19
  },
  {
   "cell_type": "code",
   "outputs": [],
   "source": [
    "# 指定文件夹路径\n",
    "folder_path = '尽调报告'\n",
    "# 正则表达式，假设“配置逻辑”和“持仓特征”都只出现一次，且顺序固定\n",
    "regex_pattern = r'配置逻辑(.*?)持仓特征'"
   ],
   "metadata": {
    "collapsed": false,
    "ExecuteTime": {
     "end_time": "2024-03-15T12:21:30.376892Z",
     "start_time": "2024-03-15T12:21:30.375210Z"
    }
   },
   "id": "1031d052bbbc7628",
   "execution_count": 28
  },
  {
   "cell_type": "code",
   "outputs": [],
   "source": [
    "extracted_contents, name_list = extract_content_from_docx(folder_path, regex_pattern)"
   ],
   "metadata": {
    "collapsed": false,
    "ExecuteTime": {
     "end_time": "2024-03-15T12:21:30.660966Z",
     "start_time": "2024-03-15T12:21:30.635600Z"
    }
   },
   "id": "c6ff9c4affe620f9",
   "execution_count": 29
  },
  {
   "cell_type": "code",
   "outputs": [],
   "source": [
    "final_df = get_answer_from_docx_baichuan(extracted_contents,prompt,name_list,model)"
   ],
   "metadata": {
    "collapsed": false,
    "ExecuteTime": {
     "end_time": "2024-03-15T12:21:36.469926Z",
     "start_time": "2024-03-15T12:21:31.820684Z"
    }
   },
   "id": "ab3b5cf43a278787",
   "execution_count": 32
  },
  {
   "cell_type": "code",
   "outputs": [
    {
     "data": {
      "text/plain": "             私募名称                  因子组成\n0    上海泓赫投资管理有限公司  量价类因子：70%; 基本面因子：30%\n1  上海象上私募基金管理有限公司  量价类因子：50%; 基本面因子：40%\n2  北京涌金春生投资管理有限公司  量价类因子：40%; 基本面因子：60%\n3  英旷资产管理（上海）有限公司  量价类因子：70%; 基本面因子：30%",
      "text/html": "<div>\n<style scoped>\n    .dataframe tbody tr th:only-of-type {\n        vertical-align: middle;\n    }\n\n    .dataframe tbody tr th {\n        vertical-align: top;\n    }\n\n    .dataframe thead th {\n        text-align: right;\n    }\n</style>\n<table border=\"1\" class=\"dataframe\">\n  <thead>\n    <tr style=\"text-align: right;\">\n      <th></th>\n      <th>私募名称</th>\n      <th>因子组成</th>\n    </tr>\n  </thead>\n  <tbody>\n    <tr>\n      <th>0</th>\n      <td>上海泓赫投资管理有限公司</td>\n      <td>量价类因子：70%; 基本面因子：30%</td>\n    </tr>\n    <tr>\n      <th>1</th>\n      <td>上海象上私募基金管理有限公司</td>\n      <td>量价类因子：50%; 基本面因子：40%</td>\n    </tr>\n    <tr>\n      <th>2</th>\n      <td>北京涌金春生投资管理有限公司</td>\n      <td>量价类因子：40%; 基本面因子：60%</td>\n    </tr>\n    <tr>\n      <th>3</th>\n      <td>英旷资产管理（上海）有限公司</td>\n      <td>量价类因子：70%; 基本面因子：30%</td>\n    </tr>\n  </tbody>\n</table>\n</div>"
     },
     "execution_count": 33,
     "metadata": {},
     "output_type": "execute_result"
    }
   ],
   "source": [
    "final_df"
   ],
   "metadata": {
    "collapsed": false,
    "ExecuteTime": {
     "end_time": "2024-03-15T12:21:36.474164Z",
     "start_time": "2024-03-15T12:21:36.469926Z"
    }
   },
   "id": "d9ff678b536e0d5f",
   "execution_count": 33
  },
  {
   "cell_type": "code",
   "outputs": [],
   "source": [],
   "metadata": {
    "collapsed": false
   },
   "id": "cb1fe6d0d6c1f59a"
  }
 ],
 "metadata": {
  "kernelspec": {
   "display_name": "Python 3",
   "language": "python",
   "name": "python3"
  },
  "language_info": {
   "codemirror_mode": {
    "name": "ipython",
    "version": 2
   },
   "file_extension": ".py",
   "mimetype": "text/x-python",
   "name": "python",
   "nbconvert_exporter": "python",
   "pygments_lexer": "ipython2",
   "version": "2.7.6"
  }
 },
 "nbformat": 4,
 "nbformat_minor": 5
}
