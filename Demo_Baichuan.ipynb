{
 "cells": [
  {
   "cell_type": "code",
   "execution_count": 1,
   "id": "initial_id",
   "metadata": {
    "collapsed": true,
    "ExecuteTime": {
     "end_time": "2024-03-20T15:59:33.983759Z",
     "start_time": "2024-03-20T15:59:31.138264Z"
    }
   },
   "outputs": [
    {
     "name": "stderr",
     "output_type": "stream",
     "text": [
      "2024-03-20 23:59:32,605 - modelscope - INFO - PyTorch version 2.2.1+cu121 Found.\n",
      "2024-03-20 23:59:32,609 - modelscope - INFO - Loading ast index from C:\\Users\\Weizh\\.cache\\modelscope\\ast_indexer\n",
      "2024-03-20 23:59:32,650 - modelscope - INFO - Loading done! Current index file version is 1.13.1, with md5 bc2963ceb052282714f0bb6917a5aaac and a total number of 972 components indexed\n"
     ]
    }
   ],
   "source": [
    "import torch\n",
    "from modelscope import snapshot_download, Model\n",
    "from transformers import  AutoModel,AutoTokenizer,AutoModelForCausalLM\n",
    "from transformers.generation.utils import GenerationConfig\n",
    "from functions import *\n",
    "import os\n",
    "import warnings\n",
    "warnings.filterwarnings(\"ignore\", module=\"some_module_name\")"
   ]
  },
  {
   "cell_type": "markdown",
   "source": [
    "## 读取模型"
   ],
   "metadata": {
    "collapsed": false
   },
   "id": "5bf73f279505ab91"
  },
  {
   "cell_type": "code",
   "outputs": [
    {
     "name": "stderr",
     "output_type": "stream",
     "text": [
      "2024-03-20 23:59:33,984 - modelscope - INFO - initialize model from Baichuan2-13B-Chat-4bits\n",
      "A matching Triton is not available, some optimizations will not be enabled\n",
      "Traceback (most recent call last):\n",
      "  File \"D:\\AI\\Paipai AI chat\\venv\\Lib\\site-packages\\xformers\\__init__.py\", line 55, in _is_triton_available\n",
      "    from xformers.triton.softmax import softmax as triton_softmax  # noqa\n",
      "    ^^^^^^^^^^^^^^^^^^^^^^^^^^^^^^^^^^^^^^^^^^^^^^^^^^^^^^^^^^^^^\n",
      "  File \"D:\\AI\\Paipai AI chat\\venv\\Lib\\site-packages\\xformers\\triton\\softmax.py\", line 11, in <module>\n",
      "    import triton\n",
      "ModuleNotFoundError: No module named 'triton'\n"
     ]
    },
    {
     "name": "stdout",
     "output_type": "stream",
     "text": [
      "bin D:\\AI\\Paipai AI chat\\venv\\Lib\\site-packages\\bitsandbytes\\libbitsandbytes_cuda121.dll\n"
     ]
    },
    {
     "name": "stderr",
     "output_type": "stream",
     "text": [
      "2024-03-20 23:59:34,800 - modelscope - WARNING - ('MODELS', 'text-generation', 'Baichuan2-13B-Chat-4bits') not found in ast index file\n"
     ]
    }
   ],
   "source": [
    "model = Model.from_pretrained(\"Baichuan2-13B-Chat-4bits\", device_map=\"auto\", trust_remote_code=True, torch_dtype=torch.float16)"
   ],
   "metadata": {
    "collapsed": false,
    "ExecuteTime": {
     "end_time": "2024-03-20T15:59:42.166380Z",
     "start_time": "2024-03-20T15:59:33.983759Z"
    }
   },
   "id": "e9539a3f955e45d3",
   "execution_count": 2
  },
  {
   "cell_type": "code",
   "outputs": [],
   "source": [
    "dic_content_extraction = {'配置逻辑': r'配置逻辑(.*?)持仓特征',\n",
    "                          '公司概况': r'公司概况(.*?)股东情况',\n",
    "                          '交易风格': r'公司概况(.*?)股东情况'}"
   ],
   "metadata": {
    "collapsed": false,
    "ExecuteTime": {
     "end_time": "2024-03-20T15:59:42.169132Z",
     "start_time": "2024-03-20T15:59:42.166380Z"
    }
   },
   "id": "a2e00c1d60b195cd",
   "execution_count": 3
  },
  {
   "cell_type": "markdown",
   "source": [
    "提取尽调报告内容："
   ],
   "metadata": {
    "collapsed": false
   },
   "id": "93cac8a9c0504f74"
  },
  {
   "cell_type": "code",
   "outputs": [],
   "source": [
    "regex_pattern = r'配置逻辑(.*?)持仓特征'"
   ],
   "metadata": {
    "collapsed": false,
    "ExecuteTime": {
     "end_time": "2024-03-20T15:50:52.451377Z",
     "start_time": "2024-03-20T15:50:52.441756Z"
    }
   },
   "id": "d9de74b17d9e46f1",
   "execution_count": 4
  },
  {
   "cell_type": "code",
   "outputs": [
    {
     "ename": "ValueError",
     "evalue": "too many values to unpack (expected 2)",
     "output_type": "error",
     "traceback": [
      "\u001B[1;31m---------------------------------------------------------------------------\u001B[0m",
      "\u001B[1;31mValueError\u001B[0m                                Traceback (most recent call last)",
      "Cell \u001B[1;32mIn[5], line 1\u001B[0m\n\u001B[1;32m----> 1\u001B[0m extracted_contents, name_list \u001B[38;5;241m=\u001B[39m extract_content_from_docx(\u001B[38;5;124m\"\u001B[39m\u001B[38;5;124m尽调报告\u001B[39m\u001B[38;5;124m\"\u001B[39m,dic_content_extraction[\u001B[38;5;124m'\u001B[39m\u001B[38;5;124m配置逻辑\u001B[39m\u001B[38;5;124m'\u001B[39m])\n",
      "\u001B[1;31mValueError\u001B[0m: too many values to unpack (expected 2)"
     ]
    }
   ],
   "source": [
    "extracted_contents, name_list = extract_content_from_docx(\"尽调报告\",dic_content_extraction['配置逻辑'])"
   ],
   "metadata": {
    "collapsed": false,
    "ExecuteTime": {
     "end_time": "2024-03-20T15:50:53.060309Z",
     "start_time": "2024-03-20T15:50:52.452381Z"
    }
   },
   "id": "c6ff9c4affe620f9",
   "execution_count": 5
  },
  {
   "cell_type": "code",
   "outputs": [],
   "source": [
    "extracted_contents[0]"
   ],
   "metadata": {
    "collapsed": false,
    "ExecuteTime": {
     "start_time": "2024-03-20T15:50:53.060309Z"
    }
   },
   "id": "6737cac4a15b657c",
   "execution_count": null
  },
  {
   "cell_type": "code",
   "outputs": [],
   "source": [
    "yaml_list = ['策略类型','因子组成','模型种类']"
   ],
   "metadata": {
    "collapsed": false,
    "ExecuteTime": {
     "end_time": "2024-03-20T16:02:02.715652Z",
     "start_time": "2024-03-20T16:02:02.712982Z"
    }
   },
   "id": "58571496f7fba5c4",
   "execution_count": 11
  },
  {
   "cell_type": "markdown",
   "source": [
    "使用大语言模型提取信息："
   ],
   "metadata": {
    "collapsed": false
   },
   "id": "d44dde83e2b7cc46"
  },
  {
   "cell_type": "code",
   "outputs": [],
   "source": [
    "final_df = get_answer_from_docx_baichuan(yaml_list,model)"
   ],
   "metadata": {
    "collapsed": false,
    "ExecuteTime": {
     "end_time": "2024-03-20T16:03:37.280051Z",
     "start_time": "2024-03-20T16:02:03.371783Z"
    }
   },
   "id": "ab3b5cf43a278787",
   "execution_count": 12
  },
  {
   "cell_type": "code",
   "outputs": [
    {
     "data": {
      "text/plain": "              私募名称    策略类型                     因子组成 模型种类\n0     上海泓赫投资管理有限公司  \"指数增强\"     量价类因子：70%; 基本面因子：30%   线性\n1   上海象上私募基金管理有限公司  \"指数增强\"     量价类因子：50%; 基本面因子：40%   线性\n2           丰衍私募基金  \"指数增强\"     量价类因子：80%\\n基本面因子：15%  非线性\n3             乾象投资  \"指数增强\"      量价类因子：80%; 基本面因子：5%  非线性\n4             云起量化  \"指数增强\"     量价类因子：90%; 基本面因子：10%  非线性\n5             前海久盈  \"指数增强\"     量价类因子：70%; 基本面因子：30%  非线性\n6           前海博普资产  \"指数增强\"     量价类因子：60%; 基本面因子：50%  非线性\n7   北京涌金春生投资管理有限公司  \"指数增强\"     量价类因子：40%; 基本面因子：60%  非线性\n8             卓识投资  \"指数增强\"     量价类因子：80%; 基本面因子：15%  非线性\n9   南京倍漾私募基金管理有限公司  \"指数增强\"     量价类因子：70%; 基本面因子：30%  非线性\n10           同温层资产  \"指数增强\"     量价类因子：80%; 基本面因子：15%   线性\n11            启林投资  \"指数增强\"     量价类因子：60%; 基本面因子：40%  非线性\n12            因诺资产  \"指数增强\"     量价类因子：70%; 基本面因子：30%  非线性\n13            天算量化  \"指数增强\"     量价类因子：50%; 基本面因子：20%   线性\n14          头狼私募基金  \"指数增强\"     量价类因子：60%; 基本面因子：40%   线性\n15          宁波幻方量化  \"指数增强\"      量价类因子：90%; 基本面因子：0%  非线性\n16            宽投资产  \"指数增强\"     量价类因子：70%; 基本面因子：20%  非线性\n17            尊和资产  \"指数增强\"     量价类因子：65%; 基本面因子：30%  非线性\n18           平方和投资  \"指数增强\"     量价类因子：50%; 基本面因子：40%  非线性\n19            微观博易  \"指数增强\"     量价类因子：60%; 基本面因子：40%  非线性\n20      托特（三亚）私募基金  \"指数增强\"     量价类因子：70%; 基本面因子：30%  非线性\n21          时间序列资产  \"指数增强\"     量价类因子：40%; 基本面因子：50%  非线性\n22            星阔投资  \"指数增强\"     量价类因子：65%; 基本面因子：20%  非线性\n23            朋锦仲阳  \"指数增强\"     量价类因子：90%; 基本面因子：<5%  非线性\n24            泰铼投资  \"指数增强\"     量价类因子：60%; 基本面因子：20%  非线性\n25        海浦私募证券投资  \"指数增强\"     量价类因子：80%; 基本面因子：15%  非线性\n26            灵均投资  \"指数增强\"     量价类因子：80%; 基本面因子：15%  非线性\n27          理博私募基金  \"指数增强\"     量价类因子：60%; 基本面因子：40%  非线性\n28            聚宽投资  \"指数增强\"     量价类因子：70%; 基本面因子：20%  非线性\n29            艮岳投资  \"指数增强\"     量价类因子：80%; 基本面因子：15%  非线性\n30  英旷资产管理（上海）有限公司  \"指数增强\"     量价类因子：70%; 基本面因子：30%  非线性\n31            衍合投资  \"指数增强\"     量价类因子：60%; 基本面因子：20%  非线性\n32  衍合投资管理(青岛)有限公司  \"指数增强\"     量价类因子：50%; 基本面因子：30%  非线性\n33           超量子基金  \"指数增强\"     量价类因子：80%; 基本面因子：20%   线性\n34            金戈量锐  \"指数增强\"     量价类因子：60%; 基本面因子：30%  非线性\n35            锋滔资产  \"指数增强\"     量价类因子：80%; 基本面因子：20%  非线性\n36            青石资产  \"指数增强\"     量价类因子：80%; 基本面因子：15%  非线性\n37          鸣石私募基金  \"指数增强\"  量价类因子：60-70%; 基本面因子：20%  非线性\n38            黑翼资产  \"指数增强\"     量价类因子：80%; 基本面因子：15%  非线性",
      "text/html": "<div>\n<style scoped>\n    .dataframe tbody tr th:only-of-type {\n        vertical-align: middle;\n    }\n\n    .dataframe tbody tr th {\n        vertical-align: top;\n    }\n\n    .dataframe thead th {\n        text-align: right;\n    }\n</style>\n<table border=\"1\" class=\"dataframe\">\n  <thead>\n    <tr style=\"text-align: right;\">\n      <th></th>\n      <th>私募名称</th>\n      <th>策略类型</th>\n      <th>因子组成</th>\n      <th>模型种类</th>\n    </tr>\n  </thead>\n  <tbody>\n    <tr>\n      <th>0</th>\n      <td>上海泓赫投资管理有限公司</td>\n      <td>\"指数增强\"</td>\n      <td>量价类因子：70%; 基本面因子：30%</td>\n      <td>线性</td>\n    </tr>\n    <tr>\n      <th>1</th>\n      <td>上海象上私募基金管理有限公司</td>\n      <td>\"指数增强\"</td>\n      <td>量价类因子：50%; 基本面因子：40%</td>\n      <td>线性</td>\n    </tr>\n    <tr>\n      <th>2</th>\n      <td>丰衍私募基金</td>\n      <td>\"指数增强\"</td>\n      <td>量价类因子：80%\\n基本面因子：15%</td>\n      <td>非线性</td>\n    </tr>\n    <tr>\n      <th>3</th>\n      <td>乾象投资</td>\n      <td>\"指数增强\"</td>\n      <td>量价类因子：80%; 基本面因子：5%</td>\n      <td>非线性</td>\n    </tr>\n    <tr>\n      <th>4</th>\n      <td>云起量化</td>\n      <td>\"指数增强\"</td>\n      <td>量价类因子：90%; 基本面因子：10%</td>\n      <td>非线性</td>\n    </tr>\n    <tr>\n      <th>5</th>\n      <td>前海久盈</td>\n      <td>\"指数增强\"</td>\n      <td>量价类因子：70%; 基本面因子：30%</td>\n      <td>非线性</td>\n    </tr>\n    <tr>\n      <th>6</th>\n      <td>前海博普资产</td>\n      <td>\"指数增强\"</td>\n      <td>量价类因子：60%; 基本面因子：50%</td>\n      <td>非线性</td>\n    </tr>\n    <tr>\n      <th>7</th>\n      <td>北京涌金春生投资管理有限公司</td>\n      <td>\"指数增强\"</td>\n      <td>量价类因子：40%; 基本面因子：60%</td>\n      <td>非线性</td>\n    </tr>\n    <tr>\n      <th>8</th>\n      <td>卓识投资</td>\n      <td>\"指数增强\"</td>\n      <td>量价类因子：80%; 基本面因子：15%</td>\n      <td>非线性</td>\n    </tr>\n    <tr>\n      <th>9</th>\n      <td>南京倍漾私募基金管理有限公司</td>\n      <td>\"指数增强\"</td>\n      <td>量价类因子：70%; 基本面因子：30%</td>\n      <td>非线性</td>\n    </tr>\n    <tr>\n      <th>10</th>\n      <td>同温层资产</td>\n      <td>\"指数增强\"</td>\n      <td>量价类因子：80%; 基本面因子：15%</td>\n      <td>线性</td>\n    </tr>\n    <tr>\n      <th>11</th>\n      <td>启林投资</td>\n      <td>\"指数增强\"</td>\n      <td>量价类因子：60%; 基本面因子：40%</td>\n      <td>非线性</td>\n    </tr>\n    <tr>\n      <th>12</th>\n      <td>因诺资产</td>\n      <td>\"指数增强\"</td>\n      <td>量价类因子：70%; 基本面因子：30%</td>\n      <td>非线性</td>\n    </tr>\n    <tr>\n      <th>13</th>\n      <td>天算量化</td>\n      <td>\"指数增强\"</td>\n      <td>量价类因子：50%; 基本面因子：20%</td>\n      <td>线性</td>\n    </tr>\n    <tr>\n      <th>14</th>\n      <td>头狼私募基金</td>\n      <td>\"指数增强\"</td>\n      <td>量价类因子：60%; 基本面因子：40%</td>\n      <td>线性</td>\n    </tr>\n    <tr>\n      <th>15</th>\n      <td>宁波幻方量化</td>\n      <td>\"指数增强\"</td>\n      <td>量价类因子：90%; 基本面因子：0%</td>\n      <td>非线性</td>\n    </tr>\n    <tr>\n      <th>16</th>\n      <td>宽投资产</td>\n      <td>\"指数增强\"</td>\n      <td>量价类因子：70%; 基本面因子：20%</td>\n      <td>非线性</td>\n    </tr>\n    <tr>\n      <th>17</th>\n      <td>尊和资产</td>\n      <td>\"指数增强\"</td>\n      <td>量价类因子：65%; 基本面因子：30%</td>\n      <td>非线性</td>\n    </tr>\n    <tr>\n      <th>18</th>\n      <td>平方和投资</td>\n      <td>\"指数增强\"</td>\n      <td>量价类因子：50%; 基本面因子：40%</td>\n      <td>非线性</td>\n    </tr>\n    <tr>\n      <th>19</th>\n      <td>微观博易</td>\n      <td>\"指数增强\"</td>\n      <td>量价类因子：60%; 基本面因子：40%</td>\n      <td>非线性</td>\n    </tr>\n    <tr>\n      <th>20</th>\n      <td>托特（三亚）私募基金</td>\n      <td>\"指数增强\"</td>\n      <td>量价类因子：70%; 基本面因子：30%</td>\n      <td>非线性</td>\n    </tr>\n    <tr>\n      <th>21</th>\n      <td>时间序列资产</td>\n      <td>\"指数增强\"</td>\n      <td>量价类因子：40%; 基本面因子：50%</td>\n      <td>非线性</td>\n    </tr>\n    <tr>\n      <th>22</th>\n      <td>星阔投资</td>\n      <td>\"指数增强\"</td>\n      <td>量价类因子：65%; 基本面因子：20%</td>\n      <td>非线性</td>\n    </tr>\n    <tr>\n      <th>23</th>\n      <td>朋锦仲阳</td>\n      <td>\"指数增强\"</td>\n      <td>量价类因子：90%; 基本面因子：&lt;5%</td>\n      <td>非线性</td>\n    </tr>\n    <tr>\n      <th>24</th>\n      <td>泰铼投资</td>\n      <td>\"指数增强\"</td>\n      <td>量价类因子：60%; 基本面因子：20%</td>\n      <td>非线性</td>\n    </tr>\n    <tr>\n      <th>25</th>\n      <td>海浦私募证券投资</td>\n      <td>\"指数增强\"</td>\n      <td>量价类因子：80%; 基本面因子：15%</td>\n      <td>非线性</td>\n    </tr>\n    <tr>\n      <th>26</th>\n      <td>灵均投资</td>\n      <td>\"指数增强\"</td>\n      <td>量价类因子：80%; 基本面因子：15%</td>\n      <td>非线性</td>\n    </tr>\n    <tr>\n      <th>27</th>\n      <td>理博私募基金</td>\n      <td>\"指数增强\"</td>\n      <td>量价类因子：60%; 基本面因子：40%</td>\n      <td>非线性</td>\n    </tr>\n    <tr>\n      <th>28</th>\n      <td>聚宽投资</td>\n      <td>\"指数增强\"</td>\n      <td>量价类因子：70%; 基本面因子：20%</td>\n      <td>非线性</td>\n    </tr>\n    <tr>\n      <th>29</th>\n      <td>艮岳投资</td>\n      <td>\"指数增强\"</td>\n      <td>量价类因子：80%; 基本面因子：15%</td>\n      <td>非线性</td>\n    </tr>\n    <tr>\n      <th>30</th>\n      <td>英旷资产管理（上海）有限公司</td>\n      <td>\"指数增强\"</td>\n      <td>量价类因子：70%; 基本面因子：30%</td>\n      <td>非线性</td>\n    </tr>\n    <tr>\n      <th>31</th>\n      <td>衍合投资</td>\n      <td>\"指数增强\"</td>\n      <td>量价类因子：60%; 基本面因子：20%</td>\n      <td>非线性</td>\n    </tr>\n    <tr>\n      <th>32</th>\n      <td>衍合投资管理(青岛)有限公司</td>\n      <td>\"指数增强\"</td>\n      <td>量价类因子：50%; 基本面因子：30%</td>\n      <td>非线性</td>\n    </tr>\n    <tr>\n      <th>33</th>\n      <td>超量子基金</td>\n      <td>\"指数增强\"</td>\n      <td>量价类因子：80%; 基本面因子：20%</td>\n      <td>线性</td>\n    </tr>\n    <tr>\n      <th>34</th>\n      <td>金戈量锐</td>\n      <td>\"指数增强\"</td>\n      <td>量价类因子：60%; 基本面因子：30%</td>\n      <td>非线性</td>\n    </tr>\n    <tr>\n      <th>35</th>\n      <td>锋滔资产</td>\n      <td>\"指数增强\"</td>\n      <td>量价类因子：80%; 基本面因子：20%</td>\n      <td>非线性</td>\n    </tr>\n    <tr>\n      <th>36</th>\n      <td>青石资产</td>\n      <td>\"指数增强\"</td>\n      <td>量价类因子：80%; 基本面因子：15%</td>\n      <td>非线性</td>\n    </tr>\n    <tr>\n      <th>37</th>\n      <td>鸣石私募基金</td>\n      <td>\"指数增强\"</td>\n      <td>量价类因子：60-70%; 基本面因子：20%</td>\n      <td>非线性</td>\n    </tr>\n    <tr>\n      <th>38</th>\n      <td>黑翼资产</td>\n      <td>\"指数增强\"</td>\n      <td>量价类因子：80%; 基本面因子：15%</td>\n      <td>非线性</td>\n    </tr>\n  </tbody>\n</table>\n</div>"
     },
     "execution_count": 13,
     "metadata": {},
     "output_type": "execute_result"
    }
   ],
   "source": [
    "final_df"
   ],
   "metadata": {
    "collapsed": false,
    "ExecuteTime": {
     "end_time": "2024-03-20T16:03:37.285770Z",
     "start_time": "2024-03-20T16:03:37.280051Z"
    }
   },
   "id": "17760b25154ad50",
   "execution_count": 13
  },
  {
   "cell_type": "code",
   "outputs": [],
   "source": [
    "extracted_contents = extract_content_from_docx(\"尽调报告\", dic_content_extraction['公司概况'])"
   ],
   "metadata": {
    "collapsed": false,
    "ExecuteTime": {
     "end_time": "2024-03-20T16:01:22.332882Z",
     "start_time": "2024-03-20T16:01:21.995505Z"
    }
   },
   "id": "cbf26427b6d2ebef",
   "execution_count": 9
  },
  {
   "cell_type": "code",
   "outputs": [
    {
     "data": {
      "text/plain": "'：\\t上海泓赫投资管理有限公司，成立于 2016年 04\\xa0月 11\\xa0日，\\xa02019年 10 月 31 日在协会备案。为协会观察会员，目前管理规模3亿。3000 万为量化多头，剩余的为纯债策略与少部分量化多头+纯债的复合策略，以及少量的自营主观多头策略。'"
     },
     "execution_count": 10,
     "metadata": {},
     "output_type": "execute_result"
    }
   ],
   "source": [
    "extracted_contents[0]"
   ],
   "metadata": {
    "collapsed": false,
    "ExecuteTime": {
     "end_time": "2024-03-20T16:01:26.882236Z",
     "start_time": "2024-03-20T16:01:26.879539Z"
    }
   },
   "id": "5ebc1c8258b13401",
   "execution_count": 10
  },
  {
   "cell_type": "code",
   "outputs": [],
   "source": [],
   "metadata": {
    "collapsed": false
   },
   "id": "e5c1703987a7d2cc"
  }
 ],
 "metadata": {
  "kernelspec": {
   "display_name": "Python 3",
   "language": "python",
   "name": "python3"
  },
  "language_info": {
   "codemirror_mode": {
    "name": "ipython",
    "version": 2
   },
   "file_extension": ".py",
   "mimetype": "text/x-python",
   "name": "python",
   "nbconvert_exporter": "python",
   "pygments_lexer": "ipython2",
   "version": "2.7.6"
  }
 },
 "nbformat": 4,
 "nbformat_minor": 5
}
