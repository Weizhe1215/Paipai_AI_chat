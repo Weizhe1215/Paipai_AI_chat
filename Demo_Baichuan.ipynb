{
 "cells": [
  {
   "cell_type": "code",
   "execution_count": 1,
   "id": "initial_id",
   "metadata": {
    "collapsed": true,
    "ExecuteTime": {
     "end_time": "2024-03-19T07:28:28.858630Z",
     "start_time": "2024-03-19T07:28:25.879854Z"
    }
   },
   "outputs": [
    {
     "name": "stderr",
     "output_type": "stream",
     "text": [
      "2024-03-19 15:28:27,404 - modelscope - INFO - PyTorch version 2.2.1+cu121 Found.\n",
      "2024-03-19 15:28:27,407 - modelscope - INFO - Loading ast index from C:\\Users\\Weizh\\.cache\\modelscope\\ast_indexer\n",
      "2024-03-19 15:28:27,447 - modelscope - INFO - Loading done! Current index file version is 1.13.1, with md5 bc2963ceb052282714f0bb6917a5aaac and a total number of 972 components indexed\n"
     ]
    }
   ],
   "source": [
    "import torch\n",
    "from modelscope import snapshot_download, Model\n",
    "from transformers import  AutoModel,AutoTokenizer,AutoModelForCausalLM\n",
    "from transformers.generation.utils import GenerationConfig\n",
    "from functions import *\n",
    "import os"
   ]
  },
  {
   "cell_type": "code",
   "outputs": [],
   "source": [
    "os.environ['PYTORCH_CUDA_ALLOC_CONF'] = 'expandable_segments:True'"
   ],
   "metadata": {
    "collapsed": false,
    "ExecuteTime": {
     "end_time": "2024-03-19T07:28:28.861456Z",
     "start_time": "2024-03-19T07:28:28.858630Z"
    }
   },
   "id": "ce7022705ebc2703",
   "execution_count": 2
  },
  {
   "cell_type": "markdown",
   "source": [
    "## 读取模型"
   ],
   "metadata": {
    "collapsed": false
   },
   "id": "5bf73f279505ab91"
  },
  {
   "cell_type": "code",
   "outputs": [
    {
     "name": "stderr",
     "output_type": "stream",
     "text": [
      "2024-03-19 15:28:28,867 - modelscope - INFO - initialize model from Baichuan2-13B-Chat-4bits\n",
      "A matching Triton is not available, some optimizations will not be enabled\n",
      "Traceback (most recent call last):\n",
      "  File \"D:\\AI\\Paipai AI chat\\venv\\Lib\\site-packages\\xformers\\__init__.py\", line 55, in _is_triton_available\n",
      "    from xformers.triton.softmax import softmax as triton_softmax  # noqa\n",
      "    ^^^^^^^^^^^^^^^^^^^^^^^^^^^^^^^^^^^^^^^^^^^^^^^^^^^^^^^^^^^^^\n",
      "  File \"D:\\AI\\Paipai AI chat\\venv\\Lib\\site-packages\\xformers\\triton\\softmax.py\", line 11, in <module>\n",
      "    import triton\n",
      "ModuleNotFoundError: No module named 'triton'\n"
     ]
    },
    {
     "name": "stdout",
     "output_type": "stream",
     "text": [
      "bin D:\\AI\\Paipai AI chat\\venv\\Lib\\site-packages\\bitsandbytes\\libbitsandbytes_cuda121.dll\n"
     ]
    },
    {
     "name": "stderr",
     "output_type": "stream",
     "text": [
      "2024-03-19 15:28:29,724 - modelscope - WARNING - ('MODELS', 'text-generation', 'Baichuan2-13B-Chat-4bits') not found in ast index file\n",
      "D:\\AI\\Paipai AI chat\\venv\\Lib\\site-packages\\accelerate\\utils\\modeling.py:679: UserWarning: expandable_segments not supported on this platform (Triggered internally at ..\\c10/cuda/CUDAAllocatorConfig.h:30.)\n",
      "  _ = torch.tensor([0], device=i)\n"
     ]
    }
   ],
   "source": [
    "model = Model.from_pretrained(\"Baichuan2-13B-Chat-4bits\", device_map=\"auto\", trust_remote_code=True, torch_dtype=torch.float16)"
   ],
   "metadata": {
    "collapsed": false,
    "ExecuteTime": {
     "end_time": "2024-03-19T07:28:37.570083Z",
     "start_time": "2024-03-19T07:28:28.861456Z"
    }
   },
   "id": "e9539a3f955e45d3",
   "execution_count": 3
  },
  {
   "cell_type": "markdown",
   "source": [
    "提取尽调报告内容："
   ],
   "metadata": {
    "collapsed": false
   },
   "id": "93cac8a9c0504f74"
  },
  {
   "cell_type": "code",
   "outputs": [],
   "source": [
    "# 指定文件夹路径\n",
    "folder_path = '尽调报告'\n",
    "# 正则表达式，假设“配置逻辑”和“持仓特征”都只出现一次，且顺序固定\n",
    "regex_pattern = r'配置逻辑(.*?)持仓特征'"
   ],
   "metadata": {
    "collapsed": false,
    "ExecuteTime": {
     "end_time": "2024-03-19T07:28:37.573461Z",
     "start_time": "2024-03-19T07:28:37.571085Z"
    }
   },
   "id": "1031d052bbbc7628",
   "execution_count": 4
  },
  {
   "cell_type": "code",
   "outputs": [],
   "source": [
    "extracted_contents, name_list = extract_content_from_docx(folder_path, regex_pattern)"
   ],
   "metadata": {
    "collapsed": false,
    "ExecuteTime": {
     "end_time": "2024-03-19T07:28:37.606597Z",
     "start_time": "2024-03-19T07:28:37.574466Z"
    }
   },
   "id": "c6ff9c4affe620f9",
   "execution_count": 5
  },
  {
   "cell_type": "code",
   "outputs": [],
   "source": [
    "yaml_list = ['因子组成','模型种类']"
   ],
   "metadata": {
    "collapsed": false,
    "ExecuteTime": {
     "end_time": "2024-03-19T07:28:37.609221Z",
     "start_time": "2024-03-19T07:28:37.606597Z"
    }
   },
   "id": "58571496f7fba5c4",
   "execution_count": 6
  },
  {
   "cell_type": "markdown",
   "source": [
    "使用大语言模型提取信息："
   ],
   "metadata": {
    "collapsed": false
   },
   "id": "d44dde83e2b7cc46"
  },
  {
   "cell_type": "code",
   "outputs": [],
   "source": [
    "final_df = get_answer_from_docx_baichuan(extracted_contents,yaml_list,name_list,model)"
   ],
   "metadata": {
    "collapsed": false,
    "ExecuteTime": {
     "end_time": "2024-03-19T07:28:50.160585Z",
     "start_time": "2024-03-19T07:28:37.609221Z"
    }
   },
   "id": "ab3b5cf43a278787",
   "execution_count": 7
  },
  {
   "cell_type": "code",
   "outputs": [
    {
     "data": {
      "text/plain": "             私募名称                  因子组成 模型种类\n0    上海泓赫投资管理有限公司  量价类因子：70%; 基本面因子：30%   线性\n1  上海象上私募基金管理有限公司  量价类因子：50%; 基本面因子：40%   线性\n2  北京涌金春生投资管理有限公司  量价类因子：40%; 基本面因子：60%  非线性\n3  英旷资产管理（上海）有限公司  量价类因子：70%; 基本面因子：30%  非线性",
      "text/html": "<div>\n<style scoped>\n    .dataframe tbody tr th:only-of-type {\n        vertical-align: middle;\n    }\n\n    .dataframe tbody tr th {\n        vertical-align: top;\n    }\n\n    .dataframe thead th {\n        text-align: right;\n    }\n</style>\n<table border=\"1\" class=\"dataframe\">\n  <thead>\n    <tr style=\"text-align: right;\">\n      <th></th>\n      <th>私募名称</th>\n      <th>因子组成</th>\n      <th>模型种类</th>\n    </tr>\n  </thead>\n  <tbody>\n    <tr>\n      <th>0</th>\n      <td>上海泓赫投资管理有限公司</td>\n      <td>量价类因子：70%; 基本面因子：30%</td>\n      <td>线性</td>\n    </tr>\n    <tr>\n      <th>1</th>\n      <td>上海象上私募基金管理有限公司</td>\n      <td>量价类因子：50%; 基本面因子：40%</td>\n      <td>线性</td>\n    </tr>\n    <tr>\n      <th>2</th>\n      <td>北京涌金春生投资管理有限公司</td>\n      <td>量价类因子：40%; 基本面因子：60%</td>\n      <td>非线性</td>\n    </tr>\n    <tr>\n      <th>3</th>\n      <td>英旷资产管理（上海）有限公司</td>\n      <td>量价类因子：70%; 基本面因子：30%</td>\n      <td>非线性</td>\n    </tr>\n  </tbody>\n</table>\n</div>"
     },
     "execution_count": 8,
     "metadata": {},
     "output_type": "execute_result"
    }
   ],
   "source": [
    "final_df"
   ],
   "metadata": {
    "collapsed": false,
    "ExecuteTime": {
     "end_time": "2024-03-19T07:28:50.176587Z",
     "start_time": "2024-03-19T07:28:50.161588Z"
    }
   },
   "id": "17760b25154ad50",
   "execution_count": 8
  },
  {
   "cell_type": "code",
   "outputs": [],
   "source": [],
   "metadata": {
    "collapsed": false
   },
   "id": "cbf26427b6d2ebef"
  }
 ],
 "metadata": {
  "kernelspec": {
   "display_name": "Python 3",
   "language": "python",
   "name": "python3"
  },
  "language_info": {
   "codemirror_mode": {
    "name": "ipython",
    "version": 2
   },
   "file_extension": ".py",
   "mimetype": "text/x-python",
   "name": "python",
   "nbconvert_exporter": "python",
   "pygments_lexer": "ipython2",
   "version": "2.7.6"
  }
 },
 "nbformat": 4,
 "nbformat_minor": 5
}
