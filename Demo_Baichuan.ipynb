{
 "cells": [
  {
   "cell_type": "code",
   "execution_count": 1,
   "id": "initial_id",
   "metadata": {
    "collapsed": true,
    "ExecuteTime": {
     "end_time": "2024-03-20T13:13:12.146445Z",
     "start_time": "2024-03-20T13:13:09.804086Z"
    }
   },
   "outputs": [
    {
     "name": "stderr",
     "output_type": "stream",
     "text": [
      "2024-03-20 21:13:10,981 - modelscope - INFO - PyTorch version 2.2.1+cu121 Found.\n",
      "2024-03-20 21:13:10,984 - modelscope - INFO - Loading ast index from C:\\Users\\Weizh\\.cache\\modelscope\\ast_indexer\n",
      "2024-03-20 21:13:11,065 - modelscope - INFO - Loading done! Current index file version is 1.13.1, with md5 bc2963ceb052282714f0bb6917a5aaac and a total number of 972 components indexed\n"
     ]
    }
   ],
   "source": [
    "import torch\n",
    "from modelscope import snapshot_download, Model\n",
    "from transformers import  AutoModel,AutoTokenizer,AutoModelForCausalLM\n",
    "from transformers.generation.utils import GenerationConfig\n",
    "from functions import *\n",
    "import os\n",
    "import warnings\n",
    "warnings.filterwarnings(\"ignore\")"
   ]
  },
  {
   "cell_type": "markdown",
   "source": [
    "## 读取模型"
   ],
   "metadata": {
    "collapsed": false
   },
   "id": "5bf73f279505ab91"
  },
  {
   "cell_type": "code",
   "outputs": [
    {
     "name": "stderr",
     "output_type": "stream",
     "text": [
      "2024-03-20 21:13:12,148 - modelscope - INFO - initialize model from Baichuan2-13B-Chat-4bits\n",
      "A matching Triton is not available, some optimizations will not be enabled\n",
      "Traceback (most recent call last):\n",
      "  File \"D:\\AI\\Paipai AI chat\\venv\\Lib\\site-packages\\xformers\\__init__.py\", line 55, in _is_triton_available\n",
      "    from xformers.triton.softmax import softmax as triton_softmax  # noqa\n",
      "    ^^^^^^^^^^^^^^^^^^^^^^^^^^^^^^^^^^^^^^^^^^^^^^^^^^^^^^^^^^^^^\n",
      "  File \"D:\\AI\\Paipai AI chat\\venv\\Lib\\site-packages\\xformers\\triton\\softmax.py\", line 11, in <module>\n",
      "    import triton\n",
      "ModuleNotFoundError: No module named 'triton'\n",
      "2024-03-20 21:13:12,770 - modelscope - WARNING - ('MODELS', 'text-generation', 'Baichuan2-13B-Chat-4bits') not found in ast index file\n"
     ]
    },
    {
     "name": "stdout",
     "output_type": "stream",
     "text": [
      "bin D:\\AI\\Paipai AI chat\\venv\\Lib\\site-packages\\bitsandbytes\\libbitsandbytes_cuda121.dll\n"
     ]
    },
    {
     "name": "stderr",
     "output_type": "stream",
     "text": [
      "D:\\AI\\Paipai AI chat\\venv\\Lib\\site-packages\\transformers\\generation\\configuration_utils.py:410: UserWarning: `do_sample` is set to `False`. However, `temperature` is set to `0.3` -- this flag is only used in sample-based generation modes. You should set `do_sample=True` or unset `temperature`. This was detected when initializing the generation config instance, which means the corresponding file may hold incorrect parameterization and should be fixed.\n",
      "  warnings.warn(\n",
      "D:\\AI\\Paipai AI chat\\venv\\Lib\\site-packages\\transformers\\generation\\configuration_utils.py:415: UserWarning: `do_sample` is set to `False`. However, `top_p` is set to `0.85` -- this flag is only used in sample-based generation modes. You should set `do_sample=True` or unset `top_p`. This was detected when initializing the generation config instance, which means the corresponding file may hold incorrect parameterization and should be fixed.\n",
      "  warnings.warn(\n",
      "D:\\AI\\Paipai AI chat\\venv\\Lib\\site-packages\\transformers\\generation\\configuration_utils.py:427: UserWarning: `do_sample` is set to `False`. However, `top_k` is set to `5` -- this flag is only used in sample-based generation modes. You should set `do_sample=True` or unset `top_k`. This was detected when initializing the generation config instance, which means the corresponding file may hold incorrect parameterization and should be fixed.\n",
      "  warnings.warn(\n",
      "D:\\AI\\Paipai AI chat\\venv\\Lib\\site-packages\\transformers\\generation\\configuration_utils.py:410: UserWarning: `do_sample` is set to `False`. However, `temperature` is set to `0.3` -- this flag is only used in sample-based generation modes. You should set `do_sample=True` or unset `temperature`.\n",
      "  warnings.warn(\n",
      "D:\\AI\\Paipai AI chat\\venv\\Lib\\site-packages\\transformers\\generation\\configuration_utils.py:415: UserWarning: `do_sample` is set to `False`. However, `top_p` is set to `0.85` -- this flag is only used in sample-based generation modes. You should set `do_sample=True` or unset `top_p`.\n",
      "  warnings.warn(\n",
      "D:\\AI\\Paipai AI chat\\venv\\Lib\\site-packages\\transformers\\generation\\configuration_utils.py:427: UserWarning: `do_sample` is set to `False`. However, `top_k` is set to `5` -- this flag is only used in sample-based generation modes. You should set `do_sample=True` or unset `top_k`.\n",
      "  warnings.warn(\n"
     ]
    }
   ],
   "source": [
    "model = Model.from_pretrained(\"Baichuan2-13B-Chat-4bits\", device_map=\"auto\", trust_remote_code=True, torch_dtype=torch.float16)"
   ],
   "metadata": {
    "collapsed": false,
    "ExecuteTime": {
     "end_time": "2024-03-20T13:13:17.221115Z",
     "start_time": "2024-03-20T13:13:12.146956Z"
    }
   },
   "id": "e9539a3f955e45d3",
   "execution_count": 2
  },
  {
   "cell_type": "code",
   "outputs": [],
   "source": [
    "dic_content_extraction = {'配置逻辑': r'配置逻辑(.*?)持仓特征',\n",
    "                          '公司概况': r'公司概况(.*?)股东情况',\n",
    "                          '交易风格': r'公司概况(.*?)股东情况'}"
   ],
   "metadata": {
    "collapsed": false,
    "ExecuteTime": {
     "end_time": "2024-03-20T13:13:17.223724Z",
     "start_time": "2024-03-20T13:13:17.221115Z"
    }
   },
   "id": "a2e00c1d60b195cd",
   "execution_count": 3
  },
  {
   "cell_type": "code",
   "outputs": [],
   "source": [],
   "metadata": {
    "collapsed": false,
    "ExecuteTime": {
     "end_time": "2024-03-20T13:13:17.225813Z",
     "start_time": "2024-03-20T13:13:17.223724Z"
    }
   },
   "id": "6bf4f3e097083a1e",
   "execution_count": 3
  },
  {
   "cell_type": "markdown",
   "source": [
    "提取尽调报告内容："
   ],
   "metadata": {
    "collapsed": false
   },
   "id": "93cac8a9c0504f74"
  },
  {
   "cell_type": "code",
   "outputs": [],
   "source": [
    "regex_pattern = r'配置逻辑(.*?)持仓特征'"
   ],
   "metadata": {
    "collapsed": false,
    "ExecuteTime": {
     "end_time": "2024-03-20T13:13:17.235790Z",
     "start_time": "2024-03-20T13:13:17.225813Z"
    }
   },
   "id": "d9de74b17d9e46f1",
   "execution_count": 4
  },
  {
   "cell_type": "code",
   "outputs": [],
   "source": [
    "extracted_contents, name_list = extract_content_from_docx(\"尽调报告\",dic_content_extraction['配置逻辑'])"
   ],
   "metadata": {
    "collapsed": false,
    "ExecuteTime": {
     "end_time": "2024-03-20T13:13:17.581124Z",
     "start_time": "2024-03-20T13:13:17.235790Z"
    }
   },
   "id": "c6ff9c4affe620f9",
   "execution_count": 5
  },
  {
   "cell_type": "code",
   "outputs": [],
   "source": [
    "yaml_list = ['因子组成','策略类型','模型种类']"
   ],
   "metadata": {
    "collapsed": false,
    "ExecuteTime": {
     "end_time": "2024-03-20T13:13:17.583376Z",
     "start_time": "2024-03-20T13:13:17.581124Z"
    }
   },
   "id": "58571496f7fba5c4",
   "execution_count": 6
  },
  {
   "cell_type": "markdown",
   "source": [
    "使用大语言模型提取信息："
   ],
   "metadata": {
    "collapsed": false
   },
   "id": "d44dde83e2b7cc46"
  },
  {
   "cell_type": "code",
   "outputs": [],
   "source": [
    "final_df = get_answer_from_docx_baichuan(extracted_contents,yaml_list,name_list,model)"
   ],
   "metadata": {
    "collapsed": false,
    "ExecuteTime": {
     "end_time": "2024-03-20T13:14:38.430649Z",
     "start_time": "2024-03-20T13:13:17.583376Z"
    }
   },
   "id": "ab3b5cf43a278787",
   "execution_count": 7
  },
  {
   "cell_type": "code",
   "outputs": [
    {
     "data": {
      "text/plain": "              私募名称                     因子组成 模型种类\n0     上海泓赫投资管理有限公司     量价类因子：70%; 基本面因子：30%   线性\n1   上海象上私募基金管理有限公司     量价类因子：50%; 基本面因子：40%   线性\n2           丰衍私募基金     量价类因子：80%\\n基本面因子：15%  非线性\n3             乾象投资      量价类因子：80%; 基本面因子：5%  非线性\n4             云起量化     量价类因子：90%; 基本面因子：10%  非线性\n5             前海久盈     量价类因子：70%; 基本面因子：30%  非线性\n6           前海博普资产     量价类因子：60%; 基本面因子：50%  非线性\n7   北京涌金春生投资管理有限公司     量价类因子：40%; 基本面因子：60%  非线性\n8             卓识投资     量价类因子：80%; 基本面因子：15%  非线性\n9   南京倍漾私募基金管理有限公司     量价类因子：70%; 基本面因子：30%  非线性\n10           同温层资产     量价类因子：80%; 基本面因子：15%   线性\n11            启林投资     量价类因子：60%; 基本面因子：40%  非线性\n12            因诺资产     量价类因子：70%; 基本面因子：30%  非线性\n13            天算量化     量价类因子：50%; 基本面因子：20%   线性\n14          头狼私募基金     量价类因子：60%; 基本面因子：40%   线性\n15          宁波幻方量化      量价类因子：90%; 基本面因子：0%  非线性\n16            宽投资产     量价类因子：70%; 基本面因子：20%  非线性\n17            尊和资产     量价类因子：65%; 基本面因子：30%  非线性\n18           平方和投资     量价类因子：50%; 基本面因子：40%  非线性\n19            微观博易     量价类因子：60%; 基本面因子：40%  非线性\n20      托特（三亚）私募基金     量价类因子：70%; 基本面因子：30%  非线性\n21          时间序列资产     量价类因子：40%; 基本面因子：50%  非线性\n22            星阔投资     量价类因子：65%; 基本面因子：20%  非线性\n23            朋锦仲阳     量价类因子：90%; 基本面因子：<5%  非线性\n24            泰铼投资     量价类因子：60%; 基本面因子：20%  非线性\n25        海浦私募证券投资     量价类因子：80%; 基本面因子：15%  非线性\n26            灵均投资     量价类因子：80%; 基本面因子：15%  非线性\n27          理博私募基金     量价类因子：60%; 基本面因子：40%  非线性\n28            聚宽投资     量价类因子：70%; 基本面因子：20%  非线性\n29            艮岳投资     量价类因子：80%; 基本面因子：15%  非线性\n30  英旷资产管理（上海）有限公司     量价类因子：70%; 基本面因子：30%  非线性\n31            衍合投资     量价类因子：60%; 基本面因子：20%  非线性\n32  衍合投资管理(青岛)有限公司     量价类因子：50%; 基本面因子：30%  非线性\n33           超量子基金     量价类因子：80%; 基本面因子：20%   线性\n34            金戈量锐     量价类因子：60%; 基本面因子：30%  非线性\n35            锋滔资产     量价类因子：80%; 基本面因子：20%  非线性\n36            青石资产     量价类因子：80%; 基本面因子：15%  非线性\n37          鸣石私募基金  量价类因子：60-70%; 基本面因子：20%  非线性\n38            黑翼资产     量价类因子：80%; 基本面因子：15%  非线性",
      "text/html": "<div>\n<style scoped>\n    .dataframe tbody tr th:only-of-type {\n        vertical-align: middle;\n    }\n\n    .dataframe tbody tr th {\n        vertical-align: top;\n    }\n\n    .dataframe thead th {\n        text-align: right;\n    }\n</style>\n<table border=\"1\" class=\"dataframe\">\n  <thead>\n    <tr style=\"text-align: right;\">\n      <th></th>\n      <th>私募名称</th>\n      <th>因子组成</th>\n      <th>模型种类</th>\n    </tr>\n  </thead>\n  <tbody>\n    <tr>\n      <th>0</th>\n      <td>上海泓赫投资管理有限公司</td>\n      <td>量价类因子：70%; 基本面因子：30%</td>\n      <td>线性</td>\n    </tr>\n    <tr>\n      <th>1</th>\n      <td>上海象上私募基金管理有限公司</td>\n      <td>量价类因子：50%; 基本面因子：40%</td>\n      <td>线性</td>\n    </tr>\n    <tr>\n      <th>2</th>\n      <td>丰衍私募基金</td>\n      <td>量价类因子：80%\\n基本面因子：15%</td>\n      <td>非线性</td>\n    </tr>\n    <tr>\n      <th>3</th>\n      <td>乾象投资</td>\n      <td>量价类因子：80%; 基本面因子：5%</td>\n      <td>非线性</td>\n    </tr>\n    <tr>\n      <th>4</th>\n      <td>云起量化</td>\n      <td>量价类因子：90%; 基本面因子：10%</td>\n      <td>非线性</td>\n    </tr>\n    <tr>\n      <th>5</th>\n      <td>前海久盈</td>\n      <td>量价类因子：70%; 基本面因子：30%</td>\n      <td>非线性</td>\n    </tr>\n    <tr>\n      <th>6</th>\n      <td>前海博普资产</td>\n      <td>量价类因子：60%; 基本面因子：50%</td>\n      <td>非线性</td>\n    </tr>\n    <tr>\n      <th>7</th>\n      <td>北京涌金春生投资管理有限公司</td>\n      <td>量价类因子：40%; 基本面因子：60%</td>\n      <td>非线性</td>\n    </tr>\n    <tr>\n      <th>8</th>\n      <td>卓识投资</td>\n      <td>量价类因子：80%; 基本面因子：15%</td>\n      <td>非线性</td>\n    </tr>\n    <tr>\n      <th>9</th>\n      <td>南京倍漾私募基金管理有限公司</td>\n      <td>量价类因子：70%; 基本面因子：30%</td>\n      <td>非线性</td>\n    </tr>\n    <tr>\n      <th>10</th>\n      <td>同温层资产</td>\n      <td>量价类因子：80%; 基本面因子：15%</td>\n      <td>线性</td>\n    </tr>\n    <tr>\n      <th>11</th>\n      <td>启林投资</td>\n      <td>量价类因子：60%; 基本面因子：40%</td>\n      <td>非线性</td>\n    </tr>\n    <tr>\n      <th>12</th>\n      <td>因诺资产</td>\n      <td>量价类因子：70%; 基本面因子：30%</td>\n      <td>非线性</td>\n    </tr>\n    <tr>\n      <th>13</th>\n      <td>天算量化</td>\n      <td>量价类因子：50%; 基本面因子：20%</td>\n      <td>线性</td>\n    </tr>\n    <tr>\n      <th>14</th>\n      <td>头狼私募基金</td>\n      <td>量价类因子：60%; 基本面因子：40%</td>\n      <td>线性</td>\n    </tr>\n    <tr>\n      <th>15</th>\n      <td>宁波幻方量化</td>\n      <td>量价类因子：90%; 基本面因子：0%</td>\n      <td>非线性</td>\n    </tr>\n    <tr>\n      <th>16</th>\n      <td>宽投资产</td>\n      <td>量价类因子：70%; 基本面因子：20%</td>\n      <td>非线性</td>\n    </tr>\n    <tr>\n      <th>17</th>\n      <td>尊和资产</td>\n      <td>量价类因子：65%; 基本面因子：30%</td>\n      <td>非线性</td>\n    </tr>\n    <tr>\n      <th>18</th>\n      <td>平方和投资</td>\n      <td>量价类因子：50%; 基本面因子：40%</td>\n      <td>非线性</td>\n    </tr>\n    <tr>\n      <th>19</th>\n      <td>微观博易</td>\n      <td>量价类因子：60%; 基本面因子：40%</td>\n      <td>非线性</td>\n    </tr>\n    <tr>\n      <th>20</th>\n      <td>托特（三亚）私募基金</td>\n      <td>量价类因子：70%; 基本面因子：30%</td>\n      <td>非线性</td>\n    </tr>\n    <tr>\n      <th>21</th>\n      <td>时间序列资产</td>\n      <td>量价类因子：40%; 基本面因子：50%</td>\n      <td>非线性</td>\n    </tr>\n    <tr>\n      <th>22</th>\n      <td>星阔投资</td>\n      <td>量价类因子：65%; 基本面因子：20%</td>\n      <td>非线性</td>\n    </tr>\n    <tr>\n      <th>23</th>\n      <td>朋锦仲阳</td>\n      <td>量价类因子：90%; 基本面因子：&lt;5%</td>\n      <td>非线性</td>\n    </tr>\n    <tr>\n      <th>24</th>\n      <td>泰铼投资</td>\n      <td>量价类因子：60%; 基本面因子：20%</td>\n      <td>非线性</td>\n    </tr>\n    <tr>\n      <th>25</th>\n      <td>海浦私募证券投资</td>\n      <td>量价类因子：80%; 基本面因子：15%</td>\n      <td>非线性</td>\n    </tr>\n    <tr>\n      <th>26</th>\n      <td>灵均投资</td>\n      <td>量价类因子：80%; 基本面因子：15%</td>\n      <td>非线性</td>\n    </tr>\n    <tr>\n      <th>27</th>\n      <td>理博私募基金</td>\n      <td>量价类因子：60%; 基本面因子：40%</td>\n      <td>非线性</td>\n    </tr>\n    <tr>\n      <th>28</th>\n      <td>聚宽投资</td>\n      <td>量价类因子：70%; 基本面因子：20%</td>\n      <td>非线性</td>\n    </tr>\n    <tr>\n      <th>29</th>\n      <td>艮岳投资</td>\n      <td>量价类因子：80%; 基本面因子：15%</td>\n      <td>非线性</td>\n    </tr>\n    <tr>\n      <th>30</th>\n      <td>英旷资产管理（上海）有限公司</td>\n      <td>量价类因子：70%; 基本面因子：30%</td>\n      <td>非线性</td>\n    </tr>\n    <tr>\n      <th>31</th>\n      <td>衍合投资</td>\n      <td>量价类因子：60%; 基本面因子：20%</td>\n      <td>非线性</td>\n    </tr>\n    <tr>\n      <th>32</th>\n      <td>衍合投资管理(青岛)有限公司</td>\n      <td>量价类因子：50%; 基本面因子：30%</td>\n      <td>非线性</td>\n    </tr>\n    <tr>\n      <th>33</th>\n      <td>超量子基金</td>\n      <td>量价类因子：80%; 基本面因子：20%</td>\n      <td>线性</td>\n    </tr>\n    <tr>\n      <th>34</th>\n      <td>金戈量锐</td>\n      <td>量价类因子：60%; 基本面因子：30%</td>\n      <td>非线性</td>\n    </tr>\n    <tr>\n      <th>35</th>\n      <td>锋滔资产</td>\n      <td>量价类因子：80%; 基本面因子：20%</td>\n      <td>非线性</td>\n    </tr>\n    <tr>\n      <th>36</th>\n      <td>青石资产</td>\n      <td>量价类因子：80%; 基本面因子：15%</td>\n      <td>非线性</td>\n    </tr>\n    <tr>\n      <th>37</th>\n      <td>鸣石私募基金</td>\n      <td>量价类因子：60-70%; 基本面因子：20%</td>\n      <td>非线性</td>\n    </tr>\n    <tr>\n      <th>38</th>\n      <td>黑翼资产</td>\n      <td>量价类因子：80%; 基本面因子：15%</td>\n      <td>非线性</td>\n    </tr>\n  </tbody>\n</table>\n</div>"
     },
     "execution_count": 8,
     "metadata": {},
     "output_type": "execute_result"
    }
   ],
   "source": [
    "final_df"
   ],
   "metadata": {
    "collapsed": false,
    "ExecuteTime": {
     "end_time": "2024-03-20T13:14:38.446123Z",
     "start_time": "2024-03-20T13:14:38.430649Z"
    }
   },
   "id": "17760b25154ad50",
   "execution_count": 8
  },
  {
   "cell_type": "code",
   "outputs": [],
   "source": [],
   "metadata": {
    "collapsed": false
   },
   "id": "cbf26427b6d2ebef"
  }
 ],
 "metadata": {
  "kernelspec": {
   "display_name": "Python 3",
   "language": "python",
   "name": "python3"
  },
  "language_info": {
   "codemirror_mode": {
    "name": "ipython",
    "version": 2
   },
   "file_extension": ".py",
   "mimetype": "text/x-python",
   "name": "python",
   "nbconvert_exporter": "python",
   "pygments_lexer": "ipython2",
   "version": "2.7.6"
  }
 },
 "nbformat": 4,
 "nbformat_minor": 5
}
