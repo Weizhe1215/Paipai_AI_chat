{
 "cells": [
  {
   "cell_type": "code",
   "execution_count": 1,
   "id": "initial_id",
   "metadata": {
    "collapsed": true,
    "ExecuteTime": {
     "end_time": "2024-05-23T12:54:09.918167Z",
     "start_time": "2024-05-23T12:54:03.610162Z"
    }
   },
   "outputs": [
    {
     "name": "stderr",
     "output_type": "stream",
     "text": [
      "2024-05-23 20:54:08,015 - modelscope - INFO - PyTorch version 2.2.1+cu121 Found.\n",
      "2024-05-23 20:54:08,017 - modelscope - INFO - Loading ast index from C:\\Users\\Weizh\\.cache\\modelscope\\ast_indexer\n",
      "2024-05-23 20:54:08,086 - modelscope - INFO - Loading done! Current index file version is 1.13.1, with md5 bc2963ceb052282714f0bb6917a5aaac and a total number of 972 components indexed\n"
     ]
    }
   ],
   "source": [
    "from LLM_read import *\n",
    "from modelscope import Model\n",
    "import torch"
   ]
  },
  {
   "cell_type": "code",
   "outputs": [
    {
     "name": "stderr",
     "output_type": "stream",
     "text": [
      "2024-05-23 20:54:09,919 - modelscope - INFO - initialize model from Baichuan2-13B-Chat-4bits\n",
      "A matching Triton is not available, some optimizations will not be enabled\n",
      "Traceback (most recent call last):\n",
      "  File \"D:\\AI\\Paipai AI chat\\venv\\Lib\\site-packages\\xformers\\__init__.py\", line 55, in _is_triton_available\n",
      "    from xformers.triton.softmax import softmax as triton_softmax  # noqa\n",
      "    ^^^^^^^^^^^^^^^^^^^^^^^^^^^^^^^^^^^^^^^^^^^^^^^^^^^^^^^^^^^^^\n",
      "  File \"D:\\AI\\Paipai AI chat\\venv\\Lib\\site-packages\\xformers\\triton\\softmax.py\", line 11, in <module>\n",
      "    import triton\n",
      "ModuleNotFoundError: No module named 'triton'\n"
     ]
    },
    {
     "name": "stdout",
     "output_type": "stream",
     "text": [
      "bin D:\\AI\\Paipai AI chat\\venv\\Lib\\site-packages\\bitsandbytes\\libbitsandbytes_cuda121.dll\n"
     ]
    },
    {
     "name": "stderr",
     "output_type": "stream",
     "text": [
      "2024-05-23 20:54:11,280 - modelscope - WARNING - ('MODELS', 'text-generation', 'Baichuan2-13B-Chat-4bits') not found in ast index file\n"
     ]
    }
   ],
   "source": [
    "model = Model.from_pretrained('Baichuan2-13B-Chat-4bits', device_map=\"auto\", trust_remote_code=True,torch_dtype=torch.float16)"
   ],
   "metadata": {
    "collapsed": false,
    "ExecuteTime": {
     "end_time": "2024-05-23T12:54:22.826043Z",
     "start_time": "2024-05-23T12:54:09.918729Z"
    }
   },
   "id": "2e8ac7159d6d11c9",
   "execution_count": 2
  },
  {
   "cell_type": "code",
   "outputs": [],
   "source": [
    "yaml_list = ['因子组成','因子挖掘','模型种类','选股范围','交易频率','持股数量']"
   ],
   "metadata": {
    "collapsed": false,
    "ExecuteTime": {
     "end_time": "2024-05-23T12:54:22.829135Z",
     "start_time": "2024-05-23T12:54:22.826825Z"
    }
   },
   "id": "5139483f693e3e4",
   "execution_count": 3
  },
  {
   "cell_type": "code",
   "outputs": [],
   "source": [
    "analyzer = LLMAnalyzer()"
   ],
   "metadata": {
    "collapsed": false,
    "ExecuteTime": {
     "end_time": "2024-05-23T12:54:22.836068Z",
     "start_time": "2024-05-23T12:54:22.829135Z"
    }
   },
   "id": "801f6c5c9d6d2fb4",
   "execution_count": 4
  },
  {
   "cell_type": "code",
   "outputs": [
    {
     "name": "stdout",
     "output_type": "stream",
     "text": [
      "0\n",
      "1\n",
      "2\n",
      "3\n",
      "4\n",
      "5\n",
      "6\n",
      "7\n",
      "8\n",
      "0\n",
      "1\n",
      "2\n",
      "3\n",
      "4\n",
      "5\n",
      "6\n",
      "7\n",
      "8\n",
      "0\n",
      "1\n",
      "2\n",
      "3\n",
      "4\n",
      "5\n",
      "6\n",
      "7\n",
      "8\n",
      "0\n",
      "1\n",
      "2\n",
      "3\n",
      "4\n",
      "5\n",
      "6\n",
      "7\n",
      "8\n",
      "0\n",
      "1\n",
      "2\n",
      "3\n",
      "4\n",
      "5\n",
      "6\n",
      "7\n",
      "8\n",
      "0\n",
      "1\n",
      "2\n",
      "3\n",
      "4\n",
      "5\n",
      "6\n",
      "7\n",
      "8\n"
     ]
    }
   ],
   "source": [
    "final_df = analyzer.get_answer_from_docx_baichuan(yaml_list=yaml_list, model = model ,doc_path='D:\\AI\\Paipai AI chat\\尽调报告')"
   ],
   "metadata": {
    "collapsed": false,
    "ExecuteTime": {
     "end_time": "2024-05-23T13:19:52.019999Z",
     "start_time": "2024-05-23T13:19:15.735990Z"
    }
   },
   "id": "26ff89dedcc113e0",
   "execution_count": 7
  },
  {
   "cell_type": "code",
   "outputs": [
    {
     "data": {
      "text/plain": "             私募名称                   因子组成  因子挖掘 模型种类   选股范围       交易频率  持股数量\n0            一马投资   量价类因子：90%; 基本面因子：10%  手工挖掘  非线性  全市场选股    换手率1.5倍   300\n1  上海凯纳璞淳资产管理有限公司   量价类因子：20%; 基本面因子：40%  手工挖掘  非线性  全市场选股     换手率40倍   200\n2    上海杉树资产管理有限公司  量价类因子：20%; 基本面因子：10%。  机器学习  非线性  全市场选股    换手率100倍   400\n3    上海泓赫投资管理有限公司   量价类因子：70%; 基本面因子：30%  手工挖掘   线性  全市场选股     换手率12倍   150\n4    上海石锋资产管理有限公司   量价类因子：70%; 基本面因子：15%  手工挖掘  非线性  全市场选股    换手率100倍   600\n5  上海磐松私募基金管理有限公司   量价类因子：10%; 基本面因子：15%  手工挖掘   线性  全市场选股     换手率12倍   200\n6  上海象上私募基金管理有限公司   量价类因子：50%; 基本面因子：40%  手工挖掘   线性  全市场选股  换手率60-80倍   200\n7  北京涌金春生投资管理有限公司   量价类因子：40%; 基本面因子：60%  手工挖掘  非线性  全市场选股     换手率10倍   300\n8  南京倍漾私募基金管理有限公司   量价类因子：70%; 基本面因子：30%  机器学习  非线性  全市场选股    换手率400倍  1000",
      "text/html": "<div>\n<style scoped>\n    .dataframe tbody tr th:only-of-type {\n        vertical-align: middle;\n    }\n\n    .dataframe tbody tr th {\n        vertical-align: top;\n    }\n\n    .dataframe thead th {\n        text-align: right;\n    }\n</style>\n<table border=\"1\" class=\"dataframe\">\n  <thead>\n    <tr style=\"text-align: right;\">\n      <th></th>\n      <th>私募名称</th>\n      <th>因子组成</th>\n      <th>因子挖掘</th>\n      <th>模型种类</th>\n      <th>选股范围</th>\n      <th>交易频率</th>\n      <th>持股数量</th>\n    </tr>\n  </thead>\n  <tbody>\n    <tr>\n      <th>0</th>\n      <td>一马投资</td>\n      <td>量价类因子：90%; 基本面因子：10%</td>\n      <td>手工挖掘</td>\n      <td>非线性</td>\n      <td>全市场选股</td>\n      <td>换手率1.5倍</td>\n      <td>300</td>\n    </tr>\n    <tr>\n      <th>1</th>\n      <td>上海凯纳璞淳资产管理有限公司</td>\n      <td>量价类因子：20%; 基本面因子：40%</td>\n      <td>手工挖掘</td>\n      <td>非线性</td>\n      <td>全市场选股</td>\n      <td>换手率40倍</td>\n      <td>200</td>\n    </tr>\n    <tr>\n      <th>2</th>\n      <td>上海杉树资产管理有限公司</td>\n      <td>量价类因子：20%; 基本面因子：10%。</td>\n      <td>机器学习</td>\n      <td>非线性</td>\n      <td>全市场选股</td>\n      <td>换手率100倍</td>\n      <td>400</td>\n    </tr>\n    <tr>\n      <th>3</th>\n      <td>上海泓赫投资管理有限公司</td>\n      <td>量价类因子：70%; 基本面因子：30%</td>\n      <td>手工挖掘</td>\n      <td>线性</td>\n      <td>全市场选股</td>\n      <td>换手率12倍</td>\n      <td>150</td>\n    </tr>\n    <tr>\n      <th>4</th>\n      <td>上海石锋资产管理有限公司</td>\n      <td>量价类因子：70%; 基本面因子：15%</td>\n      <td>手工挖掘</td>\n      <td>非线性</td>\n      <td>全市场选股</td>\n      <td>换手率100倍</td>\n      <td>600</td>\n    </tr>\n    <tr>\n      <th>5</th>\n      <td>上海磐松私募基金管理有限公司</td>\n      <td>量价类因子：10%; 基本面因子：15%</td>\n      <td>手工挖掘</td>\n      <td>线性</td>\n      <td>全市场选股</td>\n      <td>换手率12倍</td>\n      <td>200</td>\n    </tr>\n    <tr>\n      <th>6</th>\n      <td>上海象上私募基金管理有限公司</td>\n      <td>量价类因子：50%; 基本面因子：40%</td>\n      <td>手工挖掘</td>\n      <td>线性</td>\n      <td>全市场选股</td>\n      <td>换手率60-80倍</td>\n      <td>200</td>\n    </tr>\n    <tr>\n      <th>7</th>\n      <td>北京涌金春生投资管理有限公司</td>\n      <td>量价类因子：40%; 基本面因子：60%</td>\n      <td>手工挖掘</td>\n      <td>非线性</td>\n      <td>全市场选股</td>\n      <td>换手率10倍</td>\n      <td>300</td>\n    </tr>\n    <tr>\n      <th>8</th>\n      <td>南京倍漾私募基金管理有限公司</td>\n      <td>量价类因子：70%; 基本面因子：30%</td>\n      <td>机器学习</td>\n      <td>非线性</td>\n      <td>全市场选股</td>\n      <td>换手率400倍</td>\n      <td>1000</td>\n    </tr>\n  </tbody>\n</table>\n</div>"
     },
     "execution_count": 8,
     "metadata": {},
     "output_type": "execute_result"
    }
   ],
   "source": [
    "final_df"
   ],
   "metadata": {
    "collapsed": false,
    "ExecuteTime": {
     "end_time": "2024-05-23T13:20:13.643250Z",
     "start_time": "2024-05-23T13:20:13.637527Z"
    }
   },
   "id": "2ebb392b373ef5d0",
   "execution_count": 8
  },
  {
   "cell_type": "code",
   "outputs": [],
   "source": [],
   "metadata": {
    "collapsed": false
   },
   "id": "bbcbf471f4bb6027"
  }
 ],
 "metadata": {
  "kernelspec": {
   "display_name": "Python 3",
   "language": "python",
   "name": "python3"
  },
  "language_info": {
   "codemirror_mode": {
    "name": "ipython",
    "version": 2
   },
   "file_extension": ".py",
   "mimetype": "text/x-python",
   "name": "python",
   "nbconvert_exporter": "python",
   "pygments_lexer": "ipython2",
   "version": "2.7.6"
  }
 },
 "nbformat": 4,
 "nbformat_minor": 5
}
